{
 "cells": [
  {
   "cell_type": "markdown",
   "metadata": {
    "id": "gucojx6xU3-6"
   },
   "source": [
    "# Dataset: Software\n",
    "\n",
    "## Metadata:\n",
    "1. reviewerID - ID of the reviewer, e.g. A2SUAM1J3GNN3B\n",
    "2. asin - ID of the product, e.g. 0000013714\n",
    "3. reviewerName - name of the reviewer\n",
    "4. vote - helpful votes of the review\n",
    "5. style - a disctionary of the product metadata, e.g., \"Format\" is \"Hardcover\"\n",
    "6. reviewText - text of the review\n",
    "7. overall - rating of the product\n",
    "8. summary - summary of the review\n",
    "9. unixReviewTime - time of the review (unix time)\n",
    "10. reviewTime - time of the review (raw)\n",
    "11. image - images that users post after they have received the product"
   ]
  },
  {
   "cell_type": "markdown",
   "metadata": {
    "id": "y28IraPUU_n3"
   },
   "source": [
    "# 0. Prerequisite"
   ]
  },
  {
   "cell_type": "code",
   "execution_count": 2,
   "metadata": {
    "colab": {
     "base_uri": "https://localhost:8080/"
    },
    "id": "ijWjr2ZcU5jA",
    "outputId": "1c13333e-1001-4694-fd52-ef38bb812d32"
   },
   "outputs": [
    {
     "name": "stdout",
     "output_type": "stream",
     "text": [
      "Requirement already satisfied: TextBlob in c:\\users\\sksfm\\anaconda3\\lib\\site-packages (0.18.0.post0)\n",
      "Requirement already satisfied: nltk>=3.8 in c:\\users\\sksfm\\anaconda3\\lib\\site-packages (from TextBlob) (3.8.1)\n",
      "Requirement already satisfied: click in c:\\users\\sksfm\\anaconda3\\lib\\site-packages (from nltk>=3.8->TextBlob) (8.1.7)\n",
      "Requirement already satisfied: joblib in c:\\users\\sksfm\\anaconda3\\lib\\site-packages (from nltk>=3.8->TextBlob) (1.1.1)\n",
      "Requirement already satisfied: regex>=2021.8.3 in c:\\users\\sksfm\\anaconda3\\lib\\site-packages (from nltk>=3.8->TextBlob) (2023.10.3)\n",
      "Requirement already satisfied: tqdm in c:\\users\\sksfm\\anaconda3\\lib\\site-packages (from nltk>=3.8->TextBlob) (4.65.0)\n",
      "Requirement already satisfied: colorama in c:\\users\\sksfm\\anaconda3\\lib\\site-packages (from click->nltk>=3.8->TextBlob) (0.4.6)\n",
      "Requirement already satisfied: nlpaug in c:\\users\\sksfm\\anaconda3\\lib\\site-packages (1.1.11)\n",
      "Requirement already satisfied: numpy>=1.16.2 in c:\\users\\sksfm\\anaconda3\\lib\\site-packages (from nlpaug) (1.26.1)\n",
      "Requirement already satisfied: pandas>=1.2.0 in c:\\users\\sksfm\\anaconda3\\lib\\site-packages (from nlpaug) (2.1.1)\n",
      "Requirement already satisfied: requests>=2.22.0 in c:\\users\\sksfm\\anaconda3\\lib\\site-packages (from nlpaug) (2.31.0)\n",
      "Requirement already satisfied: gdown>=4.0.0 in c:\\users\\sksfm\\anaconda3\\lib\\site-packages (from nlpaug) (4.7.3)\n",
      "Requirement already satisfied: filelock in c:\\users\\sksfm\\anaconda3\\lib\\site-packages (from gdown>=4.0.0->nlpaug) (3.13.1)\n",
      "Requirement already satisfied: six in c:\\users\\sksfm\\anaconda3\\lib\\site-packages (from gdown>=4.0.0->nlpaug) (1.16.0)\n",
      "Requirement already satisfied: tqdm in c:\\users\\sksfm\\anaconda3\\lib\\site-packages (from gdown>=4.0.0->nlpaug) (4.65.0)\n",
      "Requirement already satisfied: beautifulsoup4 in c:\\users\\sksfm\\anaconda3\\lib\\site-packages (from gdown>=4.0.0->nlpaug) (4.12.2)\n",
      "Requirement already satisfied: python-dateutil>=2.8.2 in c:\\users\\sksfm\\anaconda3\\lib\\site-packages (from pandas>=1.2.0->nlpaug) (2.8.2)\n",
      "Requirement already satisfied: pytz>=2020.1 in c:\\users\\sksfm\\anaconda3\\lib\\site-packages (from pandas>=1.2.0->nlpaug) (2023.3.post1)\n",
      "Requirement already satisfied: tzdata>=2022.1 in c:\\users\\sksfm\\anaconda3\\lib\\site-packages (from pandas>=1.2.0->nlpaug) (2023.3)\n",
      "Requirement already satisfied: charset-normalizer<4,>=2 in c:\\users\\sksfm\\anaconda3\\lib\\site-packages (from requests>=2.22.0->nlpaug) (2.0.4)\n",
      "Requirement already satisfied: idna<4,>=2.5 in c:\\users\\sksfm\\anaconda3\\lib\\site-packages (from requests>=2.22.0->nlpaug) (3.4)\n",
      "Requirement already satisfied: urllib3<3,>=1.21.1 in c:\\users\\sksfm\\anaconda3\\lib\\site-packages (from requests>=2.22.0->nlpaug) (1.26.18)\n",
      "Requirement already satisfied: certifi>=2017.4.17 in c:\\users\\sksfm\\anaconda3\\lib\\site-packages (from requests>=2.22.0->nlpaug) (2024.2.2)\n",
      "Requirement already satisfied: soupsieve>1.2 in c:\\users\\sksfm\\anaconda3\\lib\\site-packages (from beautifulsoup4->gdown>=4.0.0->nlpaug) (2.5)\n",
      "Requirement already satisfied: PySocks!=1.5.7,>=1.5.6 in c:\\users\\sksfm\\anaconda3\\lib\\site-packages (from requests>=2.22.0->nlpaug) (1.7.1)\n",
      "Requirement already satisfied: colorama in c:\\users\\sksfm\\anaconda3\\lib\\site-packages (from tqdm->gdown>=4.0.0->nlpaug) (0.4.6)\n",
      "Requirement already satisfied: contractions in c:\\users\\sksfm\\anaconda3\\lib\\site-packages (0.1.73)\n",
      "Requirement already satisfied: textsearch>=0.0.21 in c:\\users\\sksfm\\anaconda3\\lib\\site-packages (from contractions) (0.0.24)\n",
      "Requirement already satisfied: anyascii in c:\\users\\sksfm\\anaconda3\\lib\\site-packages (from textsearch>=0.0.21->contractions) (0.3.2)\n",
      "Requirement already satisfied: pyahocorasick in c:\\users\\sksfm\\anaconda3\\lib\\site-packages (from textsearch>=0.0.21->contractions) (2.1.0)\n",
      "Requirement already satisfied: wordcloud in c:\\users\\sksfm\\anaconda3\\lib\\site-packages (1.9.3)\n",
      "Requirement already satisfied: numpy>=1.6.1 in c:\\users\\sksfm\\anaconda3\\lib\\site-packages (from wordcloud) (1.26.1)\n",
      "Requirement already satisfied: pillow in c:\\users\\sksfm\\anaconda3\\lib\\site-packages (from wordcloud) (10.0.1)\n",
      "Requirement already satisfied: matplotlib in c:\\users\\sksfm\\anaconda3\\lib\\site-packages (from wordcloud) (3.8.0)\n",
      "Requirement already satisfied: contourpy>=1.0.1 in c:\\users\\sksfm\\anaconda3\\lib\\site-packages (from matplotlib->wordcloud) (1.2.0)\n",
      "Requirement already satisfied: cycler>=0.10 in c:\\users\\sksfm\\anaconda3\\lib\\site-packages (from matplotlib->wordcloud) (0.11.0)\n",
      "Requirement already satisfied: fonttools>=4.22.0 in c:\\users\\sksfm\\anaconda3\\lib\\site-packages (from matplotlib->wordcloud) (4.25.0)\n",
      "Requirement already satisfied: kiwisolver>=1.0.1 in c:\\users\\sksfm\\anaconda3\\lib\\site-packages (from matplotlib->wordcloud) (1.4.4)\n",
      "Requirement already satisfied: packaging>=20.0 in c:\\users\\sksfm\\anaconda3\\lib\\site-packages (from matplotlib->wordcloud) (23.1)\n",
      "Requirement already satisfied: pyparsing>=2.3.1 in c:\\users\\sksfm\\anaconda3\\lib\\site-packages (from matplotlib->wordcloud) (3.0.9)\n",
      "Requirement already satisfied: python-dateutil>=2.7 in c:\\users\\sksfm\\anaconda3\\lib\\site-packages (from matplotlib->wordcloud) (2.8.2)\n",
      "Requirement already satisfied: six>=1.5 in c:\\users\\sksfm\\anaconda3\\lib\\site-packages (from python-dateutil>=2.7->matplotlib->wordcloud) (1.16.0)\n",
      "Requirement already satisfied: sentence-transformers in c:\\users\\sksfm\\anaconda3\\lib\\site-packages (2.6.1)\n",
      "Requirement already satisfied: transformers<5.0.0,>=4.32.0 in c:\\users\\sksfm\\anaconda3\\lib\\site-packages (from sentence-transformers) (4.37.2)\n",
      "Requirement already satisfied: tqdm in c:\\users\\sksfm\\anaconda3\\lib\\site-packages (from sentence-transformers) (4.65.0)\n",
      "Requirement already satisfied: torch>=1.11.0 in c:\\users\\sksfm\\anaconda3\\lib\\site-packages (from sentence-transformers) (2.2.2)\n",
      "Requirement already satisfied: numpy in c:\\users\\sksfm\\anaconda3\\lib\\site-packages (from sentence-transformers) (1.26.1)\n",
      "Requirement already satisfied: scikit-learn in c:\\users\\sksfm\\anaconda3\\lib\\site-packages (from sentence-transformers) (1.2.2)\n",
      "Requirement already satisfied: scipy in c:\\users\\sksfm\\anaconda3\\lib\\site-packages (from sentence-transformers) (1.11.4)\n",
      "Requirement already satisfied: huggingface-hub>=0.15.1 in c:\\users\\sksfm\\anaconda3\\lib\\site-packages (from sentence-transformers) (0.21.3)\n",
      "Requirement already satisfied: Pillow in c:\\users\\sksfm\\anaconda3\\lib\\site-packages (from sentence-transformers) (10.0.1)\n",
      "Requirement already satisfied: filelock in c:\\users\\sksfm\\anaconda3\\lib\\site-packages (from huggingface-hub>=0.15.1->sentence-transformers) (3.13.1)\n",
      "Requirement already satisfied: fsspec>=2023.5.0 in c:\\users\\sksfm\\anaconda3\\lib\\site-packages (from huggingface-hub>=0.15.1->sentence-transformers) (2023.10.0)\n",
      "Requirement already satisfied: requests in c:\\users\\sksfm\\anaconda3\\lib\\site-packages (from huggingface-hub>=0.15.1->sentence-transformers) (2.31.0)\n",
      "Requirement already satisfied: pyyaml>=5.1 in c:\\users\\sksfm\\anaconda3\\lib\\site-packages (from huggingface-hub>=0.15.1->sentence-transformers) (6.0.1)\n",
      "Requirement already satisfied: typing-extensions>=3.7.4.3 in c:\\users\\sksfm\\anaconda3\\lib\\site-packages (from huggingface-hub>=0.15.1->sentence-transformers) (4.11.0)\n",
      "Requirement already satisfied: packaging>=20.9 in c:\\users\\sksfm\\anaconda3\\lib\\site-packages (from huggingface-hub>=0.15.1->sentence-transformers) (23.1)\n",
      "Requirement already satisfied: sympy in c:\\users\\sksfm\\anaconda3\\lib\\site-packages (from torch>=1.11.0->sentence-transformers) (1.12)\n",
      "Requirement already satisfied: networkx in c:\\users\\sksfm\\anaconda3\\lib\\site-packages (from torch>=1.11.0->sentence-transformers) (3.1)\n",
      "Requirement already satisfied: jinja2 in c:\\users\\sksfm\\anaconda3\\lib\\site-packages (from torch>=1.11.0->sentence-transformers) (3.1.2)\n",
      "Requirement already satisfied: colorama in c:\\users\\sksfm\\anaconda3\\lib\\site-packages (from tqdm->sentence-transformers) (0.4.6)\n",
      "Requirement already satisfied: regex!=2019.12.17 in c:\\users\\sksfm\\anaconda3\\lib\\site-packages (from transformers<5.0.0,>=4.32.0->sentence-transformers) (2023.10.3)\n",
      "Requirement already satisfied: tokenizers<0.19,>=0.14 in c:\\users\\sksfm\\anaconda3\\lib\\site-packages (from transformers<5.0.0,>=4.32.0->sentence-transformers) (0.15.1)\n",
      "Requirement already satisfied: safetensors>=0.4.1 in c:\\users\\sksfm\\anaconda3\\lib\\site-packages (from transformers<5.0.0,>=4.32.0->sentence-transformers) (0.4.2)\n",
      "Requirement already satisfied: joblib>=1.1.1 in c:\\users\\sksfm\\anaconda3\\lib\\site-packages (from scikit-learn->sentence-transformers) (1.1.1)\n",
      "Requirement already satisfied: threadpoolctl>=2.0.0 in c:\\users\\sksfm\\anaconda3\\lib\\site-packages (from scikit-learn->sentence-transformers) (2.2.0)\n",
      "Requirement already satisfied: MarkupSafe>=2.0 in c:\\users\\sksfm\\anaconda3\\lib\\site-packages (from jinja2->torch>=1.11.0->sentence-transformers) (2.1.3)\n",
      "Requirement already satisfied: charset-normalizer<4,>=2 in c:\\users\\sksfm\\anaconda3\\lib\\site-packages (from requests->huggingface-hub>=0.15.1->sentence-transformers) (2.0.4)\n",
      "Requirement already satisfied: idna<4,>=2.5 in c:\\users\\sksfm\\anaconda3\\lib\\site-packages (from requests->huggingface-hub>=0.15.1->sentence-transformers) (3.4)\n",
      "Requirement already satisfied: urllib3<3,>=1.21.1 in c:\\users\\sksfm\\anaconda3\\lib\\site-packages (from requests->huggingface-hub>=0.15.1->sentence-transformers) (1.26.18)\n",
      "Requirement already satisfied: certifi>=2017.4.17 in c:\\users\\sksfm\\anaconda3\\lib\\site-packages (from requests->huggingface-hub>=0.15.1->sentence-transformers) (2024.2.2)\n",
      "Requirement already satisfied: mpmath>=0.19 in c:\\users\\sksfm\\anaconda3\\lib\\site-packages (from sympy->torch>=1.11.0->sentence-transformers) (1.3.0)\n",
      "Collecting scikit-surprise\n",
      "  Downloading scikit-surprise-1.1.3.tar.gz (771 kB)\n",
      "     ---------------------------------------- 0.0/772.0 kB ? eta -:--:--\n",
      "     ------------------ ------------------- 368.6/772.0 kB 7.8 MB/s eta 0:00:01\n",
      "     ----------------------------- -------- 593.9/772.0 kB 7.5 MB/s eta 0:00:01\n",
      "     -------------------------------------- 772.0/772.0 kB 6.1 MB/s eta 0:00:00\n",
      "  Preparing metadata (setup.py): started\n",
      "  Preparing metadata (setup.py): finished with status 'done'\n",
      "Requirement already satisfied: joblib>=1.0.0 in c:\\users\\sksfm\\anaconda3\\lib\\site-packages (from scikit-surprise) (1.1.1)\n",
      "Requirement already satisfied: numpy>=1.17.3 in c:\\users\\sksfm\\anaconda3\\lib\\site-packages (from scikit-surprise) (1.26.1)\n",
      "Requirement already satisfied: scipy>=1.3.2 in c:\\users\\sksfm\\anaconda3\\lib\\site-packages (from scikit-surprise) (1.11.4)\n",
      "Building wheels for collected packages: scikit-surprise\n",
      "  Building wheel for scikit-surprise (setup.py): started\n",
      "  Building wheel for scikit-surprise (setup.py): finished with status 'error'\n",
      "  Running setup.py clean for scikit-surprise\n",
      "Failed to build scikit-surprise\n"
     ]
    },
    {
     "name": "stderr",
     "output_type": "stream",
     "text": [
      "  error: subprocess-exited-with-error\n",
      "  \n",
      "  python setup.py bdist_wheel did not run successfully.\n",
      "  exit code: 1\n",
      "  \n",
      "  [101 lines of output]\n",
      "  C:\\Users\\sksfm\\AppData\\Local\\Temp\\pip-install-8ljlwqml\\scikit-surprise_960f8496b7ff4203ade766e8c1e2f41f\\setup.py:65: _DeprecatedInstaller: setuptools.installer and fetch_build_eggs are deprecated.\n",
      "  !!\n",
      "  \n",
      "          ********************************************************************************\n",
      "          Requirements should be satisfied by a PEP 517 installer.\n",
      "          If you are using pip, you can try `pip install --use-pep517`.\n",
      "          ********************************************************************************\n",
      "  \n",
      "  !!\n",
      "    dist.Distribution().fetch_build_eggs([\"numpy>=1.17.3\"])\n",
      "  running bdist_wheel\n",
      "  running build\n",
      "  running build_py\n",
      "  creating build\n",
      "  creating build\\lib.win-amd64-cpython-311\n",
      "  creating build\\lib.win-amd64-cpython-311\\surprise\n",
      "  copying surprise\\accuracy.py -> build\\lib.win-amd64-cpython-311\\surprise\n",
      "  copying surprise\\builtin_datasets.py -> build\\lib.win-amd64-cpython-311\\surprise\n",
      "  copying surprise\\dataset.py -> build\\lib.win-amd64-cpython-311\\surprise\n",
      "  copying surprise\\dump.py -> build\\lib.win-amd64-cpython-311\\surprise\n",
      "  copying surprise\\reader.py -> build\\lib.win-amd64-cpython-311\\surprise\n",
      "  copying surprise\\trainset.py -> build\\lib.win-amd64-cpython-311\\surprise\n",
      "  copying surprise\\utils.py -> build\\lib.win-amd64-cpython-311\\surprise\n",
      "  copying surprise\\__init__.py -> build\\lib.win-amd64-cpython-311\\surprise\n",
      "  copying surprise\\__main__.py -> build\\lib.win-amd64-cpython-311\\surprise\n",
      "  creating build\\lib.win-amd64-cpython-311\\surprise\\model_selection\n",
      "  copying surprise\\model_selection\\search.py -> build\\lib.win-amd64-cpython-311\\surprise\\model_selection\n",
      "  copying surprise\\model_selection\\split.py -> build\\lib.win-amd64-cpython-311\\surprise\\model_selection\n",
      "  copying surprise\\model_selection\\validation.py -> build\\lib.win-amd64-cpython-311\\surprise\\model_selection\n",
      "  copying surprise\\model_selection\\__init__.py -> build\\lib.win-amd64-cpython-311\\surprise\\model_selection\n",
      "  creating build\\lib.win-amd64-cpython-311\\surprise\\prediction_algorithms\n",
      "  copying surprise\\prediction_algorithms\\algo_base.py -> build\\lib.win-amd64-cpython-311\\surprise\\prediction_algorithms\n",
      "  copying surprise\\prediction_algorithms\\baseline_only.py -> build\\lib.win-amd64-cpython-311\\surprise\\prediction_algorithms\n",
      "  copying surprise\\prediction_algorithms\\knns.py -> build\\lib.win-amd64-cpython-311\\surprise\\prediction_algorithms\n",
      "  copying surprise\\prediction_algorithms\\predictions.py -> build\\lib.win-amd64-cpython-311\\surprise\\prediction_algorithms\n",
      "  copying surprise\\prediction_algorithms\\random_pred.py -> build\\lib.win-amd64-cpython-311\\surprise\\prediction_algorithms\n",
      "  copying surprise\\prediction_algorithms\\__init__.py -> build\\lib.win-amd64-cpython-311\\surprise\\prediction_algorithms\n",
      "  running egg_info\n",
      "  writing scikit_surprise.egg-info\\PKG-INFO\n",
      "  writing dependency_links to scikit_surprise.egg-info\\dependency_links.txt\n",
      "  writing entry points to scikit_surprise.egg-info\\entry_points.txt\n",
      "  writing requirements to scikit_surprise.egg-info\\requires.txt\n",
      "  writing top-level names to scikit_surprise.egg-info\\top_level.txt\n",
      "  reading manifest file 'scikit_surprise.egg-info\\SOURCES.txt'\n",
      "  reading manifest template 'MANIFEST.in'\n",
      "  adding license file 'LICENSE.md'\n",
      "  writing manifest file 'scikit_surprise.egg-info\\SOURCES.txt'\n",
      "  C:\\Users\\sksfm\\anaconda3\\Lib\\site-packages\\setuptools\\command\\build_py.py:201: _Warning: Package 'surprise.prediction_algorithms' is absent from the `packages` configuration.\n",
      "  !!\n",
      "  \n",
      "          ********************************************************************************\n",
      "          ############################\n",
      "          # Package would be ignored #\n",
      "          ############################\n",
      "          Python recognizes 'surprise.prediction_algorithms' as an importable package[^1],\n",
      "          but it is absent from setuptools' `packages` configuration.\n",
      "  \n",
      "          This leads to an ambiguous overall configuration. If you want to distribute this\n",
      "          package, please make sure that 'surprise.prediction_algorithms' is explicitly added\n",
      "          to the `packages` configuration field.\n",
      "  \n",
      "          Alternatively, you can also rely on setuptools' discovery methods\n",
      "          (for example by using `find_namespace_packages(...)`/`find_namespace:`\n",
      "          instead of `find_packages(...)`/`find:`).\n",
      "  \n",
      "          You can read more about \"package discovery\" on setuptools documentation page:\n",
      "  \n",
      "          - https://setuptools.pypa.io/en/latest/userguide/package_discovery.html\n",
      "  \n",
      "          If you don't want 'surprise.prediction_algorithms' to be distributed and are\n",
      "          already explicitly excluding 'surprise.prediction_algorithms' via\n",
      "          `find_namespace_packages(...)/find_namespace` or `find_packages(...)/find`,\n",
      "          you can try to use `exclude_package_data`, or `include-package-data=False` in\n",
      "          combination with a more fine grained `package-data` configuration.\n",
      "  \n",
      "          You can read more about \"package data files\" on setuptools documentation page:\n",
      "  \n",
      "          - https://setuptools.pypa.io/en/latest/userguide/datafiles.html\n",
      "  \n",
      "  \n",
      "          [^1]: For Python, any directory (with suitable naming) can be imported,\n",
      "                even if it does not contain any `.py` files.\n",
      "                On the other hand, currently there is no concept of package data\n",
      "                directory, all directories are treated like packages.\n",
      "          ********************************************************************************\n",
      "  \n",
      "  !!\n",
      "    check.warn(importable)\n",
      "  copying surprise\\similarities.c -> build\\lib.win-amd64-cpython-311\\surprise\n",
      "  copying surprise\\similarities.pyx -> build\\lib.win-amd64-cpython-311\\surprise\n",
      "  copying surprise\\prediction_algorithms\\co_clustering.c -> build\\lib.win-amd64-cpython-311\\surprise\\prediction_algorithms\n",
      "  copying surprise\\prediction_algorithms\\matrix_factorization.c -> build\\lib.win-amd64-cpython-311\\surprise\\prediction_algorithms\n",
      "  copying surprise\\prediction_algorithms\\optimize_baselines.c -> build\\lib.win-amd64-cpython-311\\surprise\\prediction_algorithms\n",
      "  copying surprise\\prediction_algorithms\\slope_one.c -> build\\lib.win-amd64-cpython-311\\surprise\\prediction_algorithms\n",
      "  copying surprise\\prediction_algorithms\\co_clustering.pyx -> build\\lib.win-amd64-cpython-311\\surprise\\prediction_algorithms\n",
      "  copying surprise\\prediction_algorithms\\matrix_factorization.pyx -> build\\lib.win-amd64-cpython-311\\surprise\\prediction_algorithms\n",
      "  copying surprise\\prediction_algorithms\\optimize_baselines.pyx -> build\\lib.win-amd64-cpython-311\\surprise\\prediction_algorithms\n",
      "  copying surprise\\prediction_algorithms\\slope_one.pyx -> build\\lib.win-amd64-cpython-311\\surprise\\prediction_algorithms\n",
      "  running build_ext\n",
      "  building 'surprise.similarities' extension\n",
      "  error: Microsoft Visual C++ 14.0 or greater is required. Get it with \"Microsoft C++ Build Tools\": https://visualstudio.microsoft.com/visual-cpp-build-tools/\n",
      "  [end of output]\n",
      "  \n",
      "  note: This error originates from a subprocess, and is likely not a problem with pip.\n",
      "  ERROR: Failed building wheel for scikit-surprise\n",
      "ERROR: Could not build wheels for scikit-surprise, which is required to install pyproject.toml-based projects\n"
     ]
    }
   ],
   "source": [
    "!pip install TextBlob\n",
    "!pip install nlpaug\n",
    "!pip install contractions\n",
    "!pip install wordcloud\n",
    "!pip install sentence-transformers\n",
    "!pip install scikit-surprise"
   ]
  },
  {
   "cell_type": "markdown",
   "metadata": {
    "id": "AQT9NRKkVHtg"
   },
   "source": [
    "# 1. Load Libraries"
   ]
  },
  {
   "cell_type": "markdown",
   "metadata": {
    "id": "NEZcHvaRVRig"
   },
   "source": [
    "## 1.1 Preprocessing Library"
   ]
  },
  {
   "cell_type": "code",
   "execution_count": 1,
   "metadata": {
    "id": "pg4CxoRG6TkI"
   },
   "outputs": [],
   "source": [
    "import requests\n",
    "import shutil\n",
    "import os\n",
    "import re\n",
    "import html\n",
    "import unicodedata\n",
    "from textblob import TextBlob\n",
    "import string\n",
    "import spacy\n",
    "import contractions\n",
    "\n",
    "class util:\n",
    "\n",
    "    def __init__(self):\n",
    "        pass\n",
    "\n",
    "    def download_data(url, target_path):\n",
    "      if not os.path.exists(target_path):\n",
    "        response = requests.get(url, stream=True)\n",
    "        if response.status_code == 200:\n",
    "          directory = os.path.dirname(target_path)\n",
    "          if not os.path.exists(directory):\n",
    "              os.makedirs(directory)\n",
    "          with open(target_path, \"wb\") as f:\n",
    "              shutil.copyfileobj(response.raw, f)\n",
    "        else:\n",
    "            print(\"Failed to download the file\")\n",
    "      else:\n",
    "          print(\"File already exists locally.\")\n",
    "\n",
    "    def read_file_to_df(file_path):\n",
    "        import pandas as pd\n",
    "\n",
    "        ext = file_path.split('.')[-1]\n",
    "        if ext == 'json':\n",
    "            return pd.read_json(file_path, lines=True)\n",
    "        elif ext == 'gz':\n",
    "            import gzip\n",
    "            with gzip.open(file_path, 'rb') as file:\n",
    "                return pd.read_json(file, lines=True)\n",
    "        elif ext == 'csv':\n",
    "            return pd.read_csv(file_path)\n",
    "        else:\n",
    "            return None\n",
    "\n",
    "class preprocessing():\n",
    "    nlp = spacy.load('en_core_web_sm')\n",
    "    stop_words = nlp.Defaults.stop_words - {'against', 'although', 'although', 'cannot', 'except', 'however', 'least', 'less', 'n‘t', 'n’t', 'neither', 'never', 'no', 'nobody', 'none', 'noone', 'nor', 'not', 'nothing', 'nowhere', \"n't\", 'somehow', 'without', 'yet'}\n",
    "\n",
    "    def correct_spelling(text):\n",
    "        return str(TextBlob(text).correct())\n",
    "\n",
    "    def fix_contractions(text):\n",
    "        return contractions.fix(text)\n",
    "\n",
    "    def remove_spaces(text):\n",
    "        text = ' '.join(text.split())  # remove extra spaces\n",
    "        return text\n",
    "\n",
    "    def remove_punctuations(text):\n",
    "        pattern = re.compile('[%s]' % re.escape(string.punctuation))\n",
    "        text = pattern.sub(' ', text) # remove punctuation\n",
    "        return text\n",
    "\n",
    "    def remove_hyperlinks(text):\n",
    "        pattern = r\"(http|ftp|https)://([\\w_-]+(?:(?:\\.[\\w_-]+)+))([\\w.,@?^=%&:/~+#-]*[\\w@?^=%&/~+#-])?\" # remove hyperlinks\n",
    "        text = text.replace(pattern, ' ')\n",
    "        return text\n",
    "\n",
    "    def remove_html_tags(text):\n",
    "        pattern = re.compile(r'<.*?>') # remove html tags\n",
    "        text = pattern.sub(' ',text)\n",
    "        return text\n",
    "\n",
    "    def replace_emoji(text): # seems to make no difference\n",
    "        emoji_dict = {'://)':'embarrassed', '://3':'embarrassed', ':-))':'happy', ':\\'‑)':'happy', ':-||':'sad', ':\\'‑(':'sad',\n",
    "                      '>:(':'angry', '>:[':'angry', ':-/':'annoyed', ':‑.':'annoyed', ':o)':'happy', ':c)':'happy', ':^)':'happy',\n",
    "                      ':‑)':'happy', ':-]':'happy', ':->':'happy', '8-)':'happy', ':-}':'happy', ':‑D':'happy', '8‑D':'happy',\n",
    "                      'B^D':'happy', 'x‑D':'happy', 'X‑D':'happy', ':\\')':'happy', ':\"D':'happy', ':-3':'happy', ':-*':'happy',\n",
    "                      ';‑)':'happy', '*-)':'happy', ';‑]':'happy', ';^)':'happy', ':‑,':'happy', ':‑P':'happy', 'X‑P':'happy',\n",
    "                      'x‑p':'happy', ':‑p':'happy', ':‑Þ':'happy', ':‑þ':'happy', ':‑b':'happy', '>:P':'happy', ':‑(':'sad',\n",
    "                      ':‑c':'sad', ':‑<':'sad', ':‑[':'sad', ':\\'(':'sad', ':=(':'sad', '>:\\\\':'undecided', '>:/':'undecided',\n",
    "                      ':\\\\':'annoyed', '=/':'annoyed', '=\\\\':'annoyed', ':L':'annoyed', '=L':'annoyed', ':S':'annoyed', ':/':'annoyed',\n",
    "                      ':$':'Embarrassed', '=]':'happy', '=)':'happy', ':)':'happy', ':]':'happy', ':>':'happy', '8)':'happy', ':}':'happy', '=D':'happy',\n",
    "                      '=3':'happy', 'c:':'happy', 'C:':'happy', ':D':'happy', '8D':'happy', 'xD':'happy', 'XD':'happy', ':3':'happy', '=3':'happy',\n",
    "                      'x3':'happy', 'X3':'happy', ':*':'happy', ':×':'happy', ';D':'happy', ';3':'happy', ';)':'happy', '*)':'happy',\n",
    "                      ';]':'happy', ';>':'happy', 'd:':'happy', '=p':'happy', ':P':'happy', 'XP':'happy', 'xp':'happy', ':p':'happy',\n",
    "                      ':Þ':'happy', ':þ':'happy', ':b':'happy', ':(':'sad', ':c':'sad', ':<':'sad', ':[':'sad', ':{':'sad', ':@':'sad',\n",
    "                      ':(':'sad', ';(':'sad', 'D=':'sad', 'DX':'sad', }\n",
    "        for emoji, word in emoji_dict.items():\n",
    "            text = text.replace(emoji, word)\n",
    "        return text\n",
    "\n",
    "    def remove_emoji(text):\n",
    "        text = re.sub(r'[^\\w\\s]', '', text)\n",
    "        return text\n",
    "\n",
    "    def fill_star(text):    # seem to make no difference\n",
    "        text = re.sub(r\"1\\s*stars?\", 'very negative', text, flags=re.IGNORECASE)\n",
    "        text = re.sub(r\"one\\s*stars?\", 'very negative', text, flags=re.IGNORECASE)\n",
    "\n",
    "        text = re.sub(r\"2\\s*stars?\", 'negative', text, flags=re.IGNORECASE)\n",
    "        text = re.sub(r\"two\\s*stars?\", 'negative', text, flags=re.IGNORECASE)\n",
    "\n",
    "\n",
    "        text = re.sub(r\"3\\s*stars?\", 'neutral', text, flags=re.IGNORECASE)\n",
    "        text = re.sub(r\"three\\s*stars?\", 'neutral', text, flags=re.IGNORECASE)\n",
    "\n",
    "        text = re.sub(r\"4\\s*stars?\", 'positive', text, flags=re.IGNORECASE)\n",
    "        text = re.sub(r\"four\\s*stars?\", 'positive', text, flags=re.IGNORECASE)\n",
    "\n",
    "        text = re.sub(r\"5\\s*stars?\", 'very positive', text, flags=re.IGNORECASE)\n",
    "        text = re.sub(r\"five\\s*stars?\", 'very positive', text, flags=re.IGNORECASE)\n",
    "\n",
    "        return text\n",
    "\n",
    "    # https://opensourceconnections.com/blog/2023/01/24/10-reasons-why-you-shouldnt-remove-stop-words/\n",
    "    def remove_stopwords(text):\n",
    "        return ' '.join([token.text for token in preprocessing.nlp(text) if not token.text.lower() in preprocessing.stop_words])\n",
    "\n",
    "    def base_preprocessing(text):\n",
    "        text = preprocessing.remove_hyperlinks(text)\n",
    "        text = preprocessing.remove_html_tags(text)\n",
    "        text = html.unescape(text)  # &amp; -> &\n",
    "        text = ''.join((c if not unicodedata.category(c).startswith('C') else ' ') for c in text) # remove control characters\n",
    "\n",
    "        # Replace escape sequences\n",
    "        text = text.replace(r'\\n',' ')  # remove new lines\n",
    "        text = text.replace(r'\\t',' ')  # remove tabs\n",
    "        text = preprocessing.fill_star(text) # convert star ratings to text\n",
    "        text = ''.join(filter(lambda x: not x.isdigit(), text))  # remove digits\n",
    "        text = ' '.join(filter(lambda x: len(x) > 1, text.split()))  # remove single characters\n",
    "\n",
    "        return text\n",
    "\n",
    "    def full_preprocessing(text):\n",
    "        text = preprocessing.base_preprocessing(text)\n",
    "        text = preprocessing.replace_emoji(text)\n",
    "        text = preprocessing.remove_punctuations(text)\n",
    "        text = text.lower()  # convert to lower case\n",
    "        #text = preprocessing.remove_stopwords(text)\n",
    "        text = preprocessing.remove_spaces(text)\n",
    "        return text\n",
    "\n",
    "    \"\"\"\n",
    "    Preprocessing function for vader\n",
    "    punctuation and lower case were habdled by the vader library\n",
    "    Sarcasm and Irony, Negation, Context Dependency, Domain-Specific Language, Subjectivity and Ambiguity, Non-Textual Features\n",
    "    \"\"\"\n",
    "    def vader_preprocessing(text):\n",
    "        text = preprocessing.base_preprocessing(text)\n",
    "        text = preprocessing.remove_punctuations(text) # for supervised learning\n",
    "        #text = preprocessing.remove_stopwords(text)\n",
    "        text = preprocessing.remove_spaces(text)\n",
    "        return text\n",
    "\n",
    "    \"\"\"\n",
    "    Preprocessing function for textbob\n",
    "    punctuation and lower case were habdled by the textbob library\n",
    "    \"\"\"\n",
    "    def textblob_preprocessing(text):\n",
    "        text = preprocessing.base_preprocessing(text)\n",
    "        #text = preprocessing.replace_emoji(text)\n",
    "        text = preprocessing.fix_contractions(text)  # fix contractions\n",
    "        text = preprocessing.remove_punctuations(text) # for supervised learning\n",
    "        #text = preprocessing.remove_stopwords(text)\n",
    "        text = preprocessing.remove_spaces(text)\n",
    "        return text\n",
    "\n",
    "    def calculate_statistics(col, percentage):\n",
    "\n",
    "        # Calculate Q1, Q3, and IQR for the 'reviewLength' column\n",
    "        Q1 = col.quantile(percentage)\n",
    "        Q3 = col.quantile(1-percentage)\n",
    "        IQR = Q3 - Q1\n",
    "\n",
    "        # Define bounds for outliers\n",
    "        lower_bound = Q1 - 1.5 * IQR\n",
    "        upper_bound = Q3 + 1.5 * IQR\n",
    "\n",
    "        return upper_bound, lower_bound\n",
    "\n",
    "    def get_review_clean(df,preprocesser):\n",
    "        df_new = df.copy()\n",
    "        df_new['reviewText_clean'] = df['summary'].str.cat(df['reviewText'], sep=' ', na_rep='').str.strip().apply(lambda text: preprocesser(text))\n",
    "        return df_new\n",
    "\n",
    "    def remove_outliers(df):\n",
    "        df_new = df.copy()\n",
    "        # not verified, no votes, and the review length is less than the lower bound or greater than the upper bound\n",
    "        # use interquartile range to identify outliers\n",
    "        (upper_bound, lower_bound) = preprocessing.calculate_statistics(df['reviewText_len'], 0.25)\n",
    "\n",
    "        print(f'** Quartile range of reviewText length: ({lower_bound} - {upper_bound})')\n",
    "        criteria = (~df['verified']) & (df['vote'] == 0) & ((df['reviewText_len'] < lower_bound) | (df['reviewText_len'] > upper_bound))\n",
    "        print(df_new.shape)\n",
    "        df_new= df_new[~criteria]\n",
    "        print(df_new.shape)\n",
    "        return df_new"
   ]
  },
  {
   "cell_type": "code",
   "execution_count": 2,
   "metadata": {
    "id": "iwCa00KkYpDc"
   },
   "outputs": [],
   "source": [
    "from sklearn.metrics import accuracy_score\n",
    "from sklearn.metrics import f1_score\n",
    "from sklearn.metrics import confusion_matrix\n",
    "\n",
    "def print_statistics(df, model):\n",
    "  print(f\"** {model} Statistics:\")\n",
    "  print(f\"** Accuracy: {accuracy_score(df['sentiment'], df[f'sentiment_{model}'])}\")\n",
    "  print(f\"** F1 Score: {f1_score(df['sentiment'], df[f'sentiment_{model}'], average='macro')}\")\n",
    "  print(f\"** Confusion Matrix:\\n{confusion_matrix(df['sentiment'], df[f'sentiment_{model}'], labels=df['sentiment'].unique())}\")\n",
    "  print('\\n')\n"
   ]
  },
  {
   "cell_type": "markdown",
   "metadata": {
    "id": "8jciEbb9VO_g"
   },
   "source": [
    "## 1.2 Sentiment analysis library\n"
   ]
  },
  {
   "cell_type": "code",
   "execution_count": 3,
   "metadata": {
    "colab": {
     "base_uri": "https://localhost:8080/"
    },
    "id": "mKReOsIqVMhY",
    "outputId": "1a3eb91f-6485-4df0-ad69-fed63fb2896c"
   },
   "outputs": [
    {
     "name": "stderr",
     "output_type": "stream",
     "text": [
      "[nltk_data] Downloading package vader_lexicon to ./nltk_data...\n",
      "[nltk_data]   Package vader_lexicon is already up-to-date!\n"
     ]
    }
   ],
   "source": [
    "import nltk\n",
    "nltk_data_path = \"./nltk_data\"\n",
    "nltk_vader_name = 'vader_lexicon'\n",
    "nltk.download(nltk_vader_name,download_dir=nltk_data_path)\n",
    "nltk.data.path.append(nltk_data_path)\n",
    "\n",
    "from nltk.sentiment.vader import SentimentIntensityAnalyzer\n",
    "from textblob import TextBlob\n",
    "\n",
    "class vader_sentiment_analyser:\n",
    "    def __init__(self):\n",
    "        self.analyser = SentimentIntensityAnalyzer()\n",
    "\n",
    "    def scores_detail(self, text, print=False):\n",
    "        score = self.analyser.polarity_scores(text)\n",
    "        if print:\n",
    "            print(\"{:-<40} {}\".format(text, str(score)))\n",
    "        # score: {'neg': 0.0, 'neu': 0.349, 'pos': 0.651, 'compound': 0.8016}\n",
    "        return score\n",
    "    def scores_avg(self, text):\n",
    "        score = self.analyser.polarity_scores(text)['compound']\n",
    "        return score\n",
    "\n",
    "    def sentiment(self, text):\n",
    "        score = self.scores_avg(text)\n",
    "        return ('Positive' if score >=0.05 else ('Negative' if score <= -0.05 else 'Neutral'))\n",
    "\n",
    "\n",
    "class textblob_sentiment_analyser:\n",
    "    #pip install textblob\n",
    "    def __init__(self, text):\n",
    "        self.text = text\n",
    "        self.analyser = TextBlob(text)\n",
    "\n",
    "    def scores_detail(self):\n",
    "        score = self.analyser.sentiment.polarity\n",
    "        label = \"pos\" if score > 0 else \"neg\" if score < 0 else \"neu\"\n",
    "        return {label: score}\n",
    "    def scores_avg(self):\n",
    "        score = self.analyser.sentiment.polarity\n",
    "        return score\n",
    "\n",
    "    def subjectivity(self):\n",
    "        return self.analyser.sentiment.subjectivity\n",
    "\n",
    "    def sentiment(self):\n",
    "        score = self.scores_avg()\n",
    "        return ('Positive' if score>0 else ('Negative' if score<0 else 'Neutral'))"
   ]
  },
  {
   "cell_type": "markdown",
   "metadata": {
    "id": "zqdjAJSrWYdt"
   },
   "source": [
    "# 2. Load data"
   ]
  },
  {
   "cell_type": "code",
   "execution_count": 4,
   "metadata": {
    "id": "Ovkf5YsKWS73"
   },
   "outputs": [
    {
     "name": "stdout",
     "output_type": "stream",
     "text": [
      "File already exists locally.\n"
     ]
    }
   ],
   "source": [
    "import warnings\n",
    "warnings.filterwarnings('ignore')\n",
    "\n",
    "# import libraries\n",
    "import matplotlib.pyplot as plt\n",
    "import seaborn as sns\n",
    "\n",
    "import pandas as pd\n",
    "full_data_gzip_path = 'https://datarepo.eng.ucsd.edu/mcauley_group/data/amazon_v2/categoryFiles/Software.json.gz' # full dataset\n",
    "sample_data_gzip_path = 'https://datarepo.eng.ucsd.edu/mcauley_group/data/amazon_v2/categoryFilesSmall/Software_5.json.gz'  # sample dataset\n",
    "\n",
    "file_path = './data/Software.json.gz' # change the file path to json/ gz\n",
    "\n",
    "util.download_data(full_data_gzip_path, file_path)  # download data if not found\n",
    "df = util.read_file_to_df(file_path)  # read the dataset\n",
    "df['reviewID'] = df.index  # create a new column for reviewID\n",
    "df['vote'] = df['vote'].str.replace(',', '').apply(lambda x: 0 if pd.isnull(x) else int(x))  # convert vote to int\n",
    "df['sentiment'] = df['overall'].apply(lambda x: 'Positive' if x in [4, 5] else ('Neutral' if x == 3 else 'Negative'))\n",
    "df['reviewText_clean'] = df['summary'].str.cat(df['reviewText'], sep=' ', na_rep='').str.strip().apply(lambda text: preprocessing.full_preprocessing(text))\n",
    "df['reviewText_len'] = df['reviewText_clean'].apply(lambda x: len(x.split()))\n"
   ]
  },
  {
   "cell_type": "markdown",
   "metadata": {
    "id": "aP7YhBOrWeRO"
   },
   "source": [
    "# 3. Preprocessing"
   ]
  },
  {
   "cell_type": "code",
   "execution_count": 5,
   "metadata": {
    "colab": {
     "base_uri": "https://localhost:8080/"
    },
    "id": "O0oHsKhzWgDm",
    "outputId": "465287b2-052b-4b60-9f5a-f55a9b4b1904"
   },
   "outputs": [
    {
     "name": "stdout",
     "output_type": "stream",
     "text": [
      "** Quartile range of reviewText length: (-94.5 - 205.5)\n",
      "(450903, 16)\n",
      "(443672, 16)\n"
     ]
    }
   ],
   "source": [
    "# Drop duplicated reviews based on the specified subset of columns\n",
    "# Keep only the first occurrence of each duplicated review, and drop subsequent occurrences\n",
    "df_processed = df.copy()\n",
    "df_processed = df_processed.drop_duplicates(subset=['overall', 'verified', 'reviewTime', 'reviewerID', 'asin', 'reviewerName', 'reviewText', 'summary', 'unixReviewTime', 'vote'], keep='first', inplace=False) # basic drop duplicated records\n",
    "\n",
    "# remove outliers\n",
    "df_processed = preprocessing.remove_outliers(df_processed)\n",
    "\n",
    "df_processed['reviewText_clean_vader'] = df_processed['summary'].str.cat(df_processed['reviewText'], sep=' ', na_rep='').str.strip().apply(lambda text: preprocessing.vader_preprocessing(text))\n",
    "df_processed['reviewText_clean_textblob'] = df_processed['summary'].str.cat(df_processed['reviewText'], sep=' ', na_rep='').str.strip().apply(lambda text: preprocessing.textblob_preprocessing(text))\n"
   ]
  },
  {
   "cell_type": "markdown",
   "metadata": {
    "id": "LSBmwEb3WqdW"
   },
   "source": [
    "# 3. Supervised learning model Analysis\n",
    "\n",
    "---\n",
    "\n",
    "\n",
    "11.\tModeling (Sentiment Analysis) Machine Learning approach: \\\n",
    "a.\tSelect a subset of the original data minimum 2000 reviews, check point 14 below as you select the subset.\\\n",
    "b.\tCarry out data exploration on the subset and pre-processing and justify each step of preprocessing.\\\n",
    "c.\tRepresent your text using one of the text represtations discussed in the course, make sure to note in your report why you chose that representation.\\\n",
    "d.\tSplit the data into 70% for training and 30% for testing,—Use stratified splitting based on the rating value field.\\\n",
    "e.\tBuild two sentiment analysis models using 70% of the data. Choose two of the following Machine Learning algorithms to build and fine tune your models:\\\n",
    "i.\tLogistic Regression \\\n",
    "ii.\tSVM\\\n",
    "iii.\tNaïve Bayes\\\n",
    "iv.\tGradient Boosting\\\n",
    "v.\tMLP\n",
    "12.\tNote the results of the training process in your report.\n",
    "13.\tTesting: Test out the two models using the 30% test data note the accuracy, precision, recall, confusion matrix and F1 score in your report.\n",
    "14.\tDesign an experiment to compare the test results of the Lexicon model versus the two machine learning models:\\\n",
    "a.\tPrepare the data: Here you will need to create a situation where you compare apples to apples, so whatever you used in the Lexicon should be the test data for your machine learing model, this step requires good design.\\\n",
    "b.\tRun both models on the same data and compare the results using appropriate matrics.\n"
   ]
  },
  {
   "cell_type": "markdown",
   "metadata": {
    "id": "fpwmPFVVXqNk"
   },
   "source": [
    "# 3.1 Prepare dataset"
   ]
  },
  {
   "cell_type": "code",
   "execution_count": 6,
   "metadata": {
    "colab": {
     "base_uri": "https://localhost:8080/"
    },
    "id": "eR_ufKSbVUT4",
    "outputId": "58e37296-4ec5-4ca5-9e07-03fbe43afd36"
   },
   "outputs": [
    {
     "data": {
      "text/plain": [
       "Positive    1000\n",
       "Negative    1000\n",
       "Neutral     1000\n",
       "Name: sentiment, dtype: int64"
      ]
     },
     "execution_count": 6,
     "metadata": {},
     "output_type": "execute_result"
    }
   ],
   "source": [
    "# todo\n",
    "# select 1000 from each sentiment\n",
    "df_positive = df_processed[df_processed['sentiment'] == 'Positive'].sample(n=1000, random_state=42)\n",
    "df_negative = df_processed[df_processed['sentiment'] == 'Negative'].sample(n=1000, random_state=42)\n",
    "df_neutral = df_processed[df_processed['sentiment'] == 'Neutral'].sample(n=1000, random_state=42) #without neutral performs better\n",
    "df_combined = pd.concat([df_positive, df_negative, df_neutral])\n",
    "\n",
    "df_combined['sentiment'].value_counts()\n"
   ]
  },
  {
   "cell_type": "code",
   "execution_count": 7,
   "metadata": {
    "id": "I-8IXzx3YLe8"
   },
   "outputs": [],
   "source": [
    "df_combined['score_vader'] = df_combined['reviewText_clean_vader'].apply(lambda x: vader_sentiment_analyser().scores_avg(x))\n",
    "df_combined['sentiment_vader'] = df_combined['reviewText_clean_vader'].apply(lambda x: vader_sentiment_analyser().sentiment(x))\n",
    "\n",
    "df_combined['score_textblob'] = df_combined['reviewText_clean_textblob'].apply(lambda x: textblob_sentiment_analyser(x).scores_avg())\n",
    "df_combined['sentiment_textblob'] = df_combined['reviewText_clean_textblob'].apply(lambda x: textblob_sentiment_analyser(x).sentiment())\n"
   ]
  },
  {
   "cell_type": "code",
   "execution_count": 8,
   "metadata": {
    "colab": {
     "base_uri": "https://localhost:8080/"
    },
    "id": "6gm8axtqYi8c",
    "outputId": "41cd7c7c-37e1-4a31-ce03-6d515e398376"
   },
   "outputs": [
    {
     "name": "stdout",
     "output_type": "stream",
     "text": [
      "** vader Statistics:\n",
      "** Accuracy: 0.511\n",
      "** F1 Score: 0.4410378319441439\n",
      "** Confusion Matrix:\n",
      "[[931  51  18]\n",
      " [419 529  52]\n",
      " [695 232  73]]\n",
      "\n",
      "\n",
      "** textblob Statistics:\n",
      "** Accuracy: 0.49766666666666665\n",
      "** F1 Score: 0.4250947684333351\n",
      "** Confusion Matrix:\n",
      "[[949  29  22]\n",
      " [464 485  51]\n",
      " [764 177  59]]\n",
      "\n",
      "\n"
     ]
    }
   ],
   "source": [
    "print_statistics(df_combined, 'vader')\n",
    "print_statistics(df_combined, 'textblob')"
   ]
  },
  {
   "cell_type": "markdown",
   "metadata": {
    "id": "cYxKm4jaXiLS"
   },
   "source": [
    "# 3.2 Preprocessing"
   ]
  },
  {
   "cell_type": "markdown",
   "metadata": {
    "id": "iNkfctuaY6Xc"
   },
   "source": [
    "## 3.2.1 Vader"
   ]
  },
  {
   "cell_type": "code",
   "execution_count": 9,
   "metadata": {
    "id": "FPvV0atqEi96"
   },
   "outputs": [],
   "source": [
    "from sklearn.metrics import balanced_accuracy_score, pair_confusion_matrix\n",
    "from sklearn.model_selection import train_test_split, GridSearchCV\n",
    "from sklearn.feature_extraction.text import TfidfVectorizer, CountVectorizer\n",
    "import numpy as np\n",
    "from gensim.models import KeyedVectors\n",
    "from gensim.models import Word2Vec\n",
    "from sklearn.base import BaseEstimator, TransformerMixin\n",
    "from sklearn.model_selection import StratifiedShuffleSplit\n",
    "\n",
    "X = df_combined['reviewText_clean_vader'].reset_index(drop=True)\n",
    "y = df_combined['sentiment'].reset_index(drop=True)\n",
    "\n",
    "sss = StratifiedShuffleSplit(n_splits=1, test_size=0.3, random_state=42)\n",
    "\n",
    "for train_index, test_index in sss.split(X, y):\n",
    "    X_train,X_test = X.iloc[train_index], X.iloc[test_index]\n",
    "    y_train, y_test = y.iloc[train_index], y.iloc[test_index]"
   ]
  },
  {
   "cell_type": "code",
   "execution_count": 10,
   "metadata": {
    "id": "W4N8zJKWV30v"
   },
   "outputs": [],
   "source": [
    "#### TfidfVectorizer/ CountVectorizer/ Word2Vec/ Glove/ Bert etc, need to test which is better\n",
    "\n",
    "#### TfidfVectorizer\n",
    "word_vectorizer_tfidf = TfidfVectorizer(sublinear_tf=True,strip_accents='unicode',\n",
    "                                        analyzer='word',token_pattern=r'\\w{1,}',\n",
    "                                        stop_words='english',\n",
    "                                        ngram_range=(1, 1), max_features=10000)\n",
    "word_vectorizer_tfidf.fit(X_train)\n",
    "\n",
    "# train - test vectorized features\n",
    "train_word_features_tfidf = word_vectorizer_tfidf.transform(X_train)\n",
    "test_word_features_tfidf = word_vectorizer_tfidf.transform(X_test)\n",
    "\n",
    "#### CountVectorizer\n",
    "vectorizer_count = CountVectorizer()\n",
    "vectorizer_count.fit(X_train)\n",
    "train_word_features_count = vectorizer_count.transform(X_train)\n",
    "test_word_features_count = vectorizer_count.transform(X_test)\n"
   ]
  },
  {
   "cell_type": "code",
   "execution_count": 11,
   "metadata": {
    "id": "KVPZcuAo5wOF"
   },
   "outputs": [],
   "source": [
    "#### Word2Vec\n",
    "class Word2VecVectorizer(BaseEstimator, TransformerMixin):\n",
    "    def __init__(self, vector_size=10000, window=5, min_count=1, workers=4, sg=0):\n",
    "        \"\"\"\n",
    "        vector_size: Dimensionality of the word vectors.\n",
    "        window: Maximum distance between the current and predicted word within a sentence.\n",
    "        min_count: Ignores all words with total frequency lower than this.\n",
    "        workers: Use these many worker threads to train the model (=faster training with multicore machines).\n",
    "        sg: Training algorithm: 1 for skip-gram; otherwise CBOW.\n",
    "        \"\"\"\n",
    "        self.vector_size = vector_size\n",
    "        self.window = window\n",
    "        self.min_count = min_count\n",
    "        self.workers = workers\n",
    "        self.sg = sg\n",
    "        self.model = None\n",
    "\n",
    "    def fit(self, X, y=None):\n",
    "        # Tokenize the text\n",
    "        tokenized_text = [text.split() for text in X]\n",
    "        # Train the model\n",
    "        self.model = Word2Vec(sentences=tokenized_text, vector_size=self.vector_size,\n",
    "                              window=self.window, min_count=self.min_count,\n",
    "                              workers=self.workers, sg=self.sg)\n",
    "        return self\n",
    "\n",
    "    def transform(self, X, y=None):\n",
    "        # Tokenize the text\n",
    "        tokenized_text = [text.split() for text in X]\n",
    "        # Vectorize sentences using the average of word vectors\n",
    "        sentence_vectors = []\n",
    "        for tokens in tokenized_text:\n",
    "            if tokens:\n",
    "                word_vectors = [self.model.wv[word] for word in tokens if word in self.model.wv]\n",
    "                if word_vectors:\n",
    "                    sentence_vectors.append(np.mean(word_vectors, axis=0))\n",
    "                else:\n",
    "                    sentence_vectors.append(np.zeros(self.vector_size))\n",
    "            else:\n",
    "                sentence_vectors.append(np.zeros(self.vector_size))\n",
    "        return np.array(sentence_vectors)\n",
    "\n",
    "\n",
    "# For CBOW Model\n",
    "cbow_vectorizer = Word2VecVectorizer(sg=0)  # sg=0 for CBOW\n",
    "cbow_vectorizer.fit(X_train)\n",
    "train_features_cbow = cbow_vectorizer.transform(X_train)\n",
    "test_features_cbow = cbow_vectorizer.transform(X_test)\n",
    "\n",
    "# For Skip-Gram Model\n",
    "skipgram_vectorizer = Word2VecVectorizer(sg=1)  # sg=1 for Skip-Gram\n",
    "skipgram_vectorizer.fit(X_train)\n",
    "train_features_skipgram = skipgram_vectorizer.transform(X_train)\n",
    "test_features_skipgram = skipgram_vectorizer.transform(X_test)"
   ]
  },
  {
   "cell_type": "code",
   "execution_count": 12,
   "metadata": {
    "colab": {
     "base_uri": "https://localhost:8080/"
    },
    "id": "qXDZGbW10nzj",
    "outputId": "83648533-0180-4c42-d54d-a4fa731f872a"
   },
   "outputs": [
    {
     "name": "stdout",
     "output_type": "stream",
     "text": [
      "Loading Glove Model\n",
      "400001 words loaded!\n"
     ]
    }
   ],
   "source": [
    "### GloVe\n",
    "def load_glove_model(glove_file_path):\n",
    "    print(\"Loading Glove Model\")\n",
    "    glove_model = {}\n",
    "    with open(glove_file_path, 'r', encoding=\"utf8\") as file:\n",
    "        for line in file:\n",
    "            split_line = line.split()\n",
    "            word = split_line[0]\n",
    "            embedding = np.array([float(val) for val in split_line[1:]])\n",
    "            glove_model[word] = embedding\n",
    "    print(f\"{len(glove_model)} words loaded!\")\n",
    "    return glove_model\n",
    "\n",
    "glove_path = './glove.6B.100d.txt'\n",
    "glove_embeddings = load_glove_model(glove_path)\n",
    "\n",
    "def text_to_glove_vector(text_list, glove_model):\n",
    "    vectorized_texts = []\n",
    "    for text in text_list:\n",
    "        words = text.split()\n",
    "        word_vectors = [glove_model[word] for word in words if word in glove_model]\n",
    "        if len(word_vectors) > 0:\n",
    "            vectorized_texts.append(np.mean(word_vectors, axis=0))\n",
    "        else:\n",
    "            vectorized_texts.append(np.zeros(100))\n",
    "    return np.array(vectorized_texts)\n",
    "\n",
    "X_train_glove = text_to_glove_vector(X_train.tolist(), glove_embeddings)\n",
    "X_test_glove = text_to_glove_vector(X_test.tolist(), glove_embeddings)"
   ]
  },
  {
   "cell_type": "code",
   "execution_count": 13,
   "metadata": {
    "id": "ezgpw8e45qqh"
   },
   "outputs": [],
   "source": [
    "### BERT\n",
    "from sentence_transformers import SentenceTransformer\n",
    "\n",
    "bert_model = SentenceTransformer('all-MiniLM-L6-v2')\n",
    "\n",
    "text_10 = \"five star product? dont think so...\"\n",
    "processed_test_vader10 = preprocessing.vader_preprocessing(text_10)\n",
    "\n",
    "X_train_bert = bert_model.encode(X_train.tolist())\n",
    "X_test_bert = bert_model.encode(X_test.tolist())"
   ]
  },
  {
   "cell_type": "markdown",
   "metadata": {
    "id": "SVY6NKKE1kBW"
   },
   "source": [
    "\n",
    "## 3.2.2 Textblob"
   ]
  },
  {
   "cell_type": "code",
   "execution_count": 14,
   "metadata": {
    "id": "wIjJ81aW1nM-"
   },
   "outputs": [],
   "source": [
    "# NOT Using dataset which was processed for Textblob\n",
    "# since the performance was worse than VADER"
   ]
  },
  {
   "cell_type": "markdown",
   "metadata": {
    "id": "-mXYXbVgXtlt"
   },
   "source": [
    "# 3.3 Model training"
   ]
  },
  {
   "cell_type": "markdown",
   "metadata": {
    "id": "aqB_aGZM3Krh"
   },
   "source": [
    "## 3.3.0 hyperparameter tuning with GridSearchCV"
   ]
  },
  {
   "cell_type": "code",
   "execution_count": 12,
   "metadata": {
    "id": "Pss_E2IV3Jit"
   },
   "outputs": [],
   "source": [
    "from sklearn.ensemble import GradientBoostingClassifier\n",
    "from sklearn.linear_model import LogisticRegression\n",
    "from sklearn.naive_bayes import MultinomialNB\n",
    "from sklearn.neural_network import MLPClassifier\n",
    "from sklearn.ensemble import RandomForestClassifier\n",
    "from sklearn.svm import SVC\n",
    "from sklearn.pipeline import Pipeline\n",
    "import pickle\n",
    "from sklearn.preprocessing import MinMaxScaler\n",
    "\n",
    "# Define a dictionary of parameter grids for each classifier\n",
    "param_grids = {\n",
    "    'Logistic Regression': {                                         # Best params (April 2nd)\n",
    "        'clf__C': [0.1, 0.5, 1],                                     # 1 / newton-cg\n",
    "        'clf__solver': ['newton-cg', 'lbfgs', 'saga']\n",
    "    },\n",
    "    'Support Vector Machine': {\n",
    "        'clf__C': [0.1, 1, 10],\n",
    "        'clf__kernel': ['linear', 'poly', 'rbf', 'sigmoid']          # 10 / rbf\n",
    "    },\n",
    "    'Multinomial Naive Bayes': {\n",
    "        'clf__alpha': [0.1, 0.5, 1.0],\n",
    "        'clf__fit_prior': [True, False]                              # 0.5 / True\n",
    "    },\n",
    "    'Gradient Boosting': {\n",
    "        'clf__learning_rate': [0.05, 0.1, 0.2],\n",
    "        'clf__n_estimators': [150, 200, 250]                        # 0.1 / 250\n",
    "    },\n",
    "    'Multilayer Perceptron': {\n",
    "        'clf__activation': ['tanh', 'relu'],\n",
    "        'clf__alpha': [0.01, 0.1],\n",
    "        'clf__hidden_layer_sizes': [(50,), (100,)]\n",
    "    }\n",
    "}"
   ]
  },
  {
   "cell_type": "code",
   "execution_count": 16,
   "metadata": {
    "id": "bpLhNTKkV3Cn"
   },
   "outputs": [],
   "source": [
    "def run_grid_search_main(X_train, y_train, param_grids, output_file):\n",
    "    classifiers = [\n",
    "        ('Multinomial Naive Bayes', MultinomialNB()),\n",
    "        ('Multilayer Perceptron', MLPClassifier(random_state=42))\n",
    "    ]\n",
    "\n",
    "    best_params = {}\n",
    "\n",
    "    for name, classifier in classifiers:\n",
    "        if name == 'Multinomial Naive Bayes' and X_train is not train_word_features_tfidf:\n",
    "            # Apply min-max scaling for Multinomial Naive Bayes classifier\n",
    "            scaler = MinMaxScaler()\n",
    "            X_train_scaled = scaler.fit_transform(X_train)\n",
    "        else:\n",
    "            X_train_scaled = X_train\n",
    "\n",
    "        pipeline = Pipeline([\n",
    "            ('clf', classifier)\n",
    "        ])\n",
    "        grid_search = GridSearchCV(pipeline, param_grids[name], cv=5, n_jobs=-1, verbose=1)\n",
    "        grid_search.fit(X_train_scaled, y_train)\n",
    "        print(f\"Best Parameters for {name}: {grid_search.best_params_}\")\n",
    "        print(f\"Best Score for {name}: {grid_search.best_score_}\")\n",
    "\n",
    "        best_params[name] = grid_search.best_params_\n",
    "\n",
    "    with open(output_file, 'wb') as f:\n",
    "        pickle.dump(best_params, f)"
   ]
  },
  {
   "cell_type": "code",
   "execution_count": 17,
   "metadata": {
    "id": "9GxcldI84ndk"
   },
   "outputs": [],
   "source": [
    "def run_grid_search_extra(X_train, y_train, param_grids, output_file):\n",
    "    classifiers = [\n",
    "        ('Logistic Regression', LogisticRegression(random_state=42)),\n",
    "        ('Support Vector Machine', SVC(random_state=42)),\n",
    "        ('Gradient Boosting', GradientBoostingClassifier(random_state=42))\n",
    "    ]\n",
    "\n",
    "    best_params = {}\n",
    "\n",
    "    for name, classifier in classifiers:\n",
    "        pipeline = Pipeline([\n",
    "            ('clf', classifier)\n",
    "        ])\n",
    "        grid_search = GridSearchCV(pipeline, param_grids[name], cv=5, n_jobs=-1, verbose=1)\n",
    "        grid_search.fit(X_train, y_train)\n",
    "        print(f\"Best Parameters for {name}: {grid_search.best_params_}\")\n",
    "        print(f\"Best Score for {name}: {grid_search.best_score_}\")\n",
    "\n",
    "        best_params[name] = grid_search.best_params_\n",
    "\n",
    "    with open(output_file, 'wb') as f:\n",
    "        pickle.dump(best_params, f)"
   ]
  },
  {
   "cell_type": "code",
   "execution_count": 18,
   "metadata": {
    "colab": {
     "base_uri": "https://localhost:8080/"
    },
    "id": "MQRhOKqwV6D5",
    "outputId": "acbc6b2c-d0bb-4b34-c5a3-fec4d40e1c69"
   },
   "outputs": [
    {
     "name": "stdout",
     "output_type": "stream",
     "text": [
      "Fitting 5 folds for each of 6 candidates, totalling 30 fits\n",
      "Best Parameters for Multinomial Naive Bayes: {'clf__alpha': 1.0, 'clf__fit_prior': True}\n",
      "Best Score for Multinomial Naive Bayes: 0.699047619047619\n",
      "Fitting 5 folds for each of 8 candidates, totalling 40 fits\n",
      "Best Parameters for Multilayer Perceptron: {'clf__activation': 'tanh', 'clf__alpha': 0.1, 'clf__hidden_layer_sizes': (100,)}\n",
      "Best Score for Multilayer Perceptron: 0.680952380952381\n"
     ]
    }
   ],
   "source": [
    "run_grid_search_main(train_word_features_tfidf, y_train, param_grids, 'best_params_tfidf_main.pkl')"
   ]
  },
  {
   "cell_type": "code",
   "execution_count": 19,
   "metadata": {
    "id": "b0MO1822V-tu"
   },
   "outputs": [
    {
     "name": "stdout",
     "output_type": "stream",
     "text": [
      "Fitting 5 folds for each of 6 candidates, totalling 30 fits\n",
      "Best Parameters for Multinomial Naive Bayes: {'clf__alpha': 0.1, 'clf__fit_prior': True}\n",
      "Best Score for Multinomial Naive Bayes: 0.4319047619047619\n",
      "Fitting 5 folds for each of 8 candidates, totalling 40 fits\n",
      "Best Parameters for Multilayer Perceptron: {'clf__activation': 'tanh', 'clf__alpha': 0.1, 'clf__hidden_layer_sizes': (50,)}\n",
      "Best Score for Multilayer Perceptron: 0.4257142857142857\n"
     ]
    }
   ],
   "source": [
    "run_grid_search_main(train_features_cbow, y_train, param_grids, 'best_params_cbow_main.pkl')"
   ]
  },
  {
   "cell_type": "code",
   "execution_count": 20,
   "metadata": {
    "id": "PJjNlk34V-qI"
   },
   "outputs": [
    {
     "name": "stdout",
     "output_type": "stream",
     "text": [
      "Fitting 5 folds for each of 6 candidates, totalling 30 fits\n",
      "Best Parameters for Multinomial Naive Bayes: {'clf__alpha': 0.5, 'clf__fit_prior': True}\n",
      "Best Score for Multinomial Naive Bayes: 0.4833333333333333\n",
      "Fitting 5 folds for each of 8 candidates, totalling 40 fits\n",
      "Best Parameters for Multilayer Perceptron: {'clf__activation': 'relu', 'clf__alpha': 0.01, 'clf__hidden_layer_sizes': (50,)}\n",
      "Best Score for Multilayer Perceptron: 0.5599999999999999\n"
     ]
    }
   ],
   "source": [
    "run_grid_search_main(train_features_skipgram, y_train, param_grids, 'best_params_skipgram_main.pkl')"
   ]
  },
  {
   "cell_type": "code",
   "execution_count": 21,
   "metadata": {
    "id": "Fo7jcxCXWQG7"
   },
   "outputs": [
    {
     "name": "stdout",
     "output_type": "stream",
     "text": [
      "Fitting 5 folds for each of 6 candidates, totalling 30 fits\n",
      "Best Parameters for Multinomial Naive Bayes: {'clf__alpha': 1.0, 'clf__fit_prior': True}\n",
      "Best Score for Multinomial Naive Bayes: 0.5114285714285713\n",
      "Fitting 5 folds for each of 8 candidates, totalling 40 fits\n",
      "Best Parameters for Multilayer Perceptron: {'clf__activation': 'relu', 'clf__alpha': 0.1, 'clf__hidden_layer_sizes': (50,)}\n",
      "Best Score for Multilayer Perceptron: 0.6257142857142857\n"
     ]
    }
   ],
   "source": [
    "run_grid_search_main(X_train_glove, y_train, param_grids, 'best_params_glove_main.pkl')"
   ]
  },
  {
   "cell_type": "code",
   "execution_count": 22,
   "metadata": {
    "id": "qiMIkwMQV-mt"
   },
   "outputs": [
    {
     "name": "stdout",
     "output_type": "stream",
     "text": [
      "Fitting 5 folds for each of 6 candidates, totalling 30 fits\n",
      "Best Parameters for Multinomial Naive Bayes: {'clf__alpha': 0.1, 'clf__fit_prior': True}\n",
      "Best Score for Multinomial Naive Bayes: 0.6347619047619047\n",
      "Fitting 5 folds for each of 8 candidates, totalling 40 fits\n",
      "Best Parameters for Multilayer Perceptron: {'clf__activation': 'relu', 'clf__alpha': 0.1, 'clf__hidden_layer_sizes': (50,)}\n",
      "Best Score for Multilayer Perceptron: 0.6695238095238096\n"
     ]
    }
   ],
   "source": [
    "run_grid_search_main(X_train_bert, y_train, param_grids, 'best_params_bert_main.pkl')"
   ]
  },
  {
   "cell_type": "code",
   "execution_count": 23,
   "metadata": {},
   "outputs": [
    {
     "name": "stdout",
     "output_type": "stream",
     "text": [
      "Fitting 5 folds for each of 9 candidates, totalling 45 fits\n",
      "Best Parameters for Logistic Regression: {'clf__C': 0.5, 'clf__solver': 'lbfgs'}\n",
      "Best Score for Logistic Regression: 0.6952380952380952\n",
      "Fitting 5 folds for each of 12 candidates, totalling 60 fits\n",
      "Best Parameters for Support Vector Machine: {'clf__C': 10, 'clf__kernel': 'rbf'}\n",
      "Best Score for Support Vector Machine: 0.6957142857142857\n",
      "Fitting 5 folds for each of 9 candidates, totalling 45 fits\n",
      "Best Parameters for Gradient Boosting: {'clf__learning_rate': 0.1, 'clf__n_estimators': 250}\n",
      "Best Score for Gradient Boosting: 0.6942857142857143\n"
     ]
    }
   ],
   "source": [
    "run_grid_search_extra(train_word_features_tfidf, y_train, param_grids, 'best_params_tfidf_extra.pkl')"
   ]
  },
  {
   "cell_type": "code",
   "execution_count": null,
   "metadata": {},
   "outputs": [
    {
     "name": "stdout",
     "output_type": "stream",
     "text": [
      "Fitting 5 folds for each of 9 candidates, totalling 45 fits\n",
      "Best Parameters for Logistic Regression: {'clf__C': 0.5, 'clf__solver': 'lbfgs'}\n",
      "Best Score for Logistic Regression: 0.44523809523809527\n",
      "Fitting 5 folds for each of 12 candidates, totalling 60 fits\n",
      "Best Parameters for Support Vector Machine: {'clf__C': 10, 'clf__kernel': 'linear'}\n",
      "Best Score for Support Vector Machine: 0.42095238095238097\n",
      "Fitting 5 folds for each of 9 candidates, totalling 45 fits\n"
     ]
    }
   ],
   "source": [
    "# This code took more than 6 hours\n",
    "#run_grid_search_extra(train_features_cbow, y_train, param_grids, 'best_params_cbow_extra.pkl')\n",
    "'''\n",
    "Fitting 5 folds for each of 9 candidates, totalling 45 fits\n",
    "Best Parameters for Gradient Boosting: {'clf_learning_rate': 0.1, 'clf_n_estimators': 250}\n",
    "Best Score for Gradient Boosting: 0.43078764443223344\n",
    "'''"
   ]
  },
  {
   "cell_type": "code",
   "execution_count": null,
   "metadata": {},
   "outputs": [],
   "source": [
    "# This code took more than 6 hours\n",
    "#run_grid_search_extra(train_features_skipgram, y_train, param_grids, 'best_params_skipgram_extra.pkl')"
   ]
  },
  {
   "cell_type": "code",
   "execution_count": null,
   "metadata": {},
   "outputs": [],
   "source": [
    "# This code took 6 hours\n",
    "#run_grid_search_extra(X_train_glove, y_train, param_grids, 'best_params_glove_extra.pkl')\n",
    "'''\n",
    "Fitting 5 folds for each of 9 candidates, totalling 45 fits\n",
    "Best Parameters for Logistic Regression: {'clf_C': 1, 'clf_solver': 'saga'}\n",
    "Best Score for Logistic Regression: 0.6266666666666667\n",
    "Fitting 5 folds for each of 12 candidates, totalling 60 fits\n",
    "Best Parameters for Support Vector Machine: {'clf_C': 10, 'clf_kernel': 'poly'}\n",
    "Best Score for Support Vector Machine: 0.6204761904761905\n",
    "Fitting 5 folds for each of 9 candidates, totalling 45 fits\n",
    "Best Parameters for Gradient Boosting: {'clf_learning_rate': 0.1, 'clf_n_estimators': 150}\n",
    "Best Score for Gradient Boosting: 0.5776190476190476\n",
    "'''"
   ]
  },
  {
   "cell_type": "code",
   "execution_count": null,
   "metadata": {},
   "outputs": [],
   "source": [
    "# This code took more than 3 hours\n",
    "#run_grid_search_extra(X_train_bert, y_train, param_grids, 'best_params_bert_extra.pkl')\n",
    "\n",
    "'''\n",
    "Fitting 5 folds for each of 9 candidates, totalling 45 fits\n",
    "Best Parameters for Logistic Regression: {'clf_C': 0.5, 'clf_solver': 'saga'}\n",
    "Best Score for Logistic Regression: 0.6957142857142857\n",
    "Fitting 5 folds for each of 12 candidates, totalling 60 fits\n",
    "Best Parameters for Support Vector Machine: {'clf_C': 1, 'clf_kernel': 'rbf'}\n",
    "Best Score for Support Vector Machine: 0.6938095238095239\n",
    "Fitting 5 folds for each of 9 candidates, totalling 45 fits\n",
    "Best Parameters for Gradient Boosting: {'clf_learning_rate': 0.05, 'clf_n_estimators': 250}\n",
    "Best Score for Gradient Boosting: 0.6623809523809523\n",
    "'''"
   ]
  },
  {
   "cell_type": "markdown",
   "metadata": {
    "id": "HFiDVHioZJQ7"
   },
   "source": [
    "## 3.3.1 Logistic Regression"
   ]
  },
  {
   "cell_type": "code",
   "execution_count": 13,
   "metadata": {
    "colab": {
     "base_uri": "https://localhost:8080/"
    },
    "id": "nEBQNC9J7yu2",
    "outputId": "1154b704-4604-4086-dfbf-27f35c2e5cd7"
   },
   "outputs": [
    {
     "name": "stdout",
     "output_type": "stream",
     "text": [
      "Logistic Regression:\n",
      "Accuracy:\n",
      "=========\n",
      "TRAIN: 0.9180952380952381\n",
      "TEST: 0.6988888888888889\n",
      "\n",
      "Confusion Matrix:\n",
      "[[232  55  13]\n",
      " [ 72 186  42]\n",
      " [ 33  56 211]]\n"
     ]
    }
   ],
   "source": [
    "# choosing and fitting classifier\n",
    "#lr = LogisticRegression(random_state=42)\n",
    "lr = LogisticRegression(C=0.5, solver='lbfgs',random_state=42)\n",
    "lr.fit(train_word_features_tfidf, y_train)\n",
    "\n",
    "# calculating results\n",
    "y_pred_train = lr.predict(train_word_features_tfidf)\n",
    "y_pred = lr.predict(test_word_features_tfidf)\n",
    "\n",
    "print(\"Logistic Regression:\")\n",
    "print(\"Accuracy:\"); print(\"=\"*len(\"Accuracy:\"))\n",
    "print(f\"TRAIN: {accuracy_score(y_train, y_pred_train)}\")\n",
    "print(f\"TEST: {accuracy_score(y_test, y_pred)}\")\n",
    "cm = confusion_matrix(y_test, y_pred)\n",
    "print(\"\\nConfusion Matrix:\")\n",
    "print(cm)"
   ]
  },
  {
   "cell_type": "code",
   "execution_count": 14,
   "metadata": {
    "id": "7rpNWylKJsxy"
   },
   "outputs": [
    {
     "data": {
      "text/plain": [
       "array([  8,  12,  14,  15,  16,  24,  26,  28,  34,  38,  44,  49,  57,\n",
       "        58,  60,  61,  63,  65,  66,  67,  68,  69,  70,  74,  75,  78,\n",
       "        82,  95,  98,  99, 101, 102, 107, 108, 109, 113, 115, 118, 123,\n",
       "       125, 128, 130, 133, 134, 143, 145, 147, 149, 151, 154, 160, 162,\n",
       "       164, 167, 170, 173, 176, 187, 201, 202, 203, 208, 209, 211, 216,\n",
       "       220, 222, 224, 227, 228, 230, 234, 235, 236, 237, 240, 241, 242,\n",
       "       243, 247, 254, 256, 263, 264, 268, 269, 271, 273, 282, 286, 287,\n",
       "       293, 300, 301, 307, 310, 314, 317, 320, 324, 326, 327, 329, 339,\n",
       "       340, 344, 345, 351, 356, 357, 360, 361, 365, 367, 368, 369, 371,\n",
       "       376, 377, 386, 392, 399, 402, 405, 409, 417, 418, 422, 423, 424,\n",
       "       428, 429, 433, 438, 439, 445, 446, 450, 454, 455, 457, 460, 465,\n",
       "       466, 467, 469, 470, 474, 475, 476, 480, 483, 505, 507, 512, 516,\n",
       "       525, 529, 531, 536, 537, 538, 539, 542, 543, 549, 551, 552, 554,\n",
       "       556, 559, 561, 563, 571, 574, 579, 587, 588, 591, 594, 598, 601,\n",
       "       604, 610, 611, 617, 620, 623, 624, 627, 628, 629, 630, 632, 634,\n",
       "       640, 641, 647, 651, 653, 662, 664, 669, 670, 671, 672, 675, 678,\n",
       "       682, 685, 686, 691, 693, 697, 703, 704, 707, 710, 712, 713, 714,\n",
       "       718, 720, 721, 725, 726, 727, 729, 737, 738, 739, 742, 744, 769,\n",
       "       782, 786, 787, 788, 790, 796, 797, 801, 804, 808, 809, 810, 813,\n",
       "       814, 820, 823, 825, 836, 839, 842, 843, 845, 847, 849, 861, 862,\n",
       "       866, 872, 876, 877, 878, 884, 886, 889, 891, 896, 897], dtype=int64)"
      ]
     },
     "execution_count": 14,
     "metadata": {},
     "output_type": "execute_result"
    }
   ],
   "source": [
    "mismatches = np.where(y_test != y_pred)[0]\n",
    "mismatches"
   ]
  },
  {
   "cell_type": "code",
   "execution_count": 15,
   "metadata": {
    "id": "Lf3pUkJIJzKT"
   },
   "outputs": [
    {
     "name": "stdout",
     "output_type": "stream",
     "text": [
      "8 :  versacheck home business want everyone to try this product\n",
      "102 :  Tax prep made simpler Useful product for do it yourselfer\n",
      "368 :  what s not to like It s music on all my devices what s not to like\n",
      "423 :  okay Okay\n",
      "470 :  Some funny stuff but more corny stuff Had it s good moments however little too corny\n",
      "480 :  Good learning game Good learning game\n",
      "512 :  don t as of date don t know there is Trojan on system\n",
      "588 :  Good product Good product HATE that always end up paying for additional stuff when file\n",
      "623 :  Be careful Did not meet expectations Too juvenile for my intended purposes\n",
      "664 :  INSTALLSHIELD V M P LT UPG EXPRESS NOT WELL it would be nice if it was actually there\n",
      "896 :  Difficult Difficult to understand without any guides\n"
     ]
    }
   ],
   "source": [
    "for index in mismatches:\n",
    "  if len(X_test.iloc[index]) < 100:\n",
    "    print(index, \": \", X_test.iloc[index])"
   ]
  },
  {
   "cell_type": "markdown",
   "metadata": {
    "id": "Yot04RmP7t2Q"
   },
   "source": [
    "## 3.3.2 SVM"
   ]
  },
  {
   "cell_type": "code",
   "execution_count": 16,
   "metadata": {
    "colab": {
     "base_uri": "https://localhost:8080/"
    },
    "id": "QWr3qr6u7-Gz",
    "outputId": "f80f6a8f-9b03-408e-f7da-cb6fd794d494"
   },
   "outputs": [
    {
     "name": "stdout",
     "output_type": "stream",
     "text": [
      "SVM:\n",
      "Accuracy:\n",
      "=========\n",
      "TRAIN: 1.0\n",
      "TEST: 0.7088888888888889\n",
      "\n",
      "Confusion Matrix:\n",
      "[[232  58  10]\n",
      " [ 64 195  41]\n",
      " [ 25  64 211]]\n"
     ]
    }
   ],
   "source": [
    "#svm = SVC(random_state=42)\n",
    "svm = SVC(C=10, kernel='rbf', random_state=42)\n",
    "svm.fit(train_word_features_tfidf, y_train)\n",
    "\n",
    "# calculating results\n",
    "y_pred_train = svm.predict(train_word_features_tfidf)\n",
    "y_pred = svm.predict(test_word_features_tfidf)\n",
    "\n",
    "print(\"SVM:\")\n",
    "print(\"Accuracy:\"); print(\"=\"*len(\"Accuracy:\"))\n",
    "print(f\"TRAIN: {accuracy_score(y_train, y_pred_train)}\")\n",
    "print(f\"TEST: {accuracy_score(y_test, y_pred)}\")\n",
    "\n",
    "cm = confusion_matrix(y_test, y_pred)\n",
    "print(\"\\nConfusion Matrix:\")\n",
    "print(cm)"
   ]
  },
  {
   "cell_type": "code",
   "execution_count": 17,
   "metadata": {
    "id": "nXb9-GyrTpOJ"
   },
   "outputs": [
    {
     "data": {
      "text/plain": [
       "array([  7,   8,  12,  14,  15,  16,  24,  26,  27,  28,  34,  38,  44,\n",
       "        50,  57,  58,  60,  61,  63,  65,  66,  67,  69,  70,  74,  75,\n",
       "        78,  82,  88,  89,  95,  98,  99, 102, 107, 108, 109, 113, 115,\n",
       "       118, 123, 125, 128, 130, 133, 134, 143, 145, 147, 151, 154, 160,\n",
       "       162, 164, 167, 168, 170, 173, 176, 185, 187, 201, 202, 203, 209,\n",
       "       211, 216, 220, 222, 224, 227, 234, 235, 237, 240, 242, 243, 244,\n",
       "       247, 254, 255, 256, 268, 269, 271, 282, 286, 287, 293, 299, 301,\n",
       "       307, 314, 317, 320, 324, 326, 327, 329, 339, 340, 344, 345, 351,\n",
       "       357, 360, 361, 365, 367, 368, 369, 371, 376, 377, 381, 386, 392,\n",
       "       399, 402, 405, 409, 411, 414, 417, 418, 422, 423, 424, 429, 433,\n",
       "       438, 439, 445, 446, 450, 454, 455, 457, 460, 462, 465, 466, 467,\n",
       "       469, 470, 474, 475, 476, 481, 483, 484, 505, 507, 512, 516, 525,\n",
       "       529, 530, 531, 536, 537, 538, 539, 542, 543, 545, 549, 551, 552,\n",
       "       554, 556, 559, 561, 563, 571, 574, 579, 587, 588, 591, 594, 598,\n",
       "       601, 604, 610, 611, 617, 618, 620, 623, 624, 627, 628, 629, 630,\n",
       "       632, 634, 640, 641, 646, 647, 653, 664, 669, 670, 671, 675, 682,\n",
       "       685, 691, 693, 697, 703, 710, 712, 718, 725, 726, 727, 729, 737,\n",
       "       738, 742, 744, 759, 769, 782, 786, 788, 792, 793, 796, 797, 801,\n",
       "       804, 809, 810, 813, 814, 820, 823, 825, 836, 839, 842, 845, 847,\n",
       "       849, 861, 862, 866, 869, 872, 876, 877, 878, 884, 886, 889, 891,\n",
       "       896, 897], dtype=int64)"
      ]
     },
     "execution_count": 17,
     "metadata": {},
     "output_type": "execute_result"
    }
   ],
   "source": [
    "mismatches = np.where(y_test != y_pred)[0]\n",
    "mismatches"
   ]
  },
  {
   "cell_type": "code",
   "execution_count": 18,
   "metadata": {
    "id": "3-b7OSFSTs7d"
   },
   "outputs": [
    {
     "name": "stdout",
     "output_type": "stream",
     "text": [
      "8 :  versacheck home business want everyone to try this product  ==  Positive\n",
      "102 :  Tax prep made simpler Useful product for do it yourselfer  ==  Positive\n",
      "368 :  what s not to like It s music on all my devices what s not to like  ==  Positive\n",
      "423 :  okay Okay  ==  Positive\n",
      "470 :  Some funny stuff but more corny stuff Had it s good moments however little too corny  ==  Neutral\n",
      "512 :  don t as of date don t know there is Trojan on system  ==  Neutral\n",
      "588 :  Good product Good product HATE that always end up paying for additional stuff when file  ==  Neutral\n",
      "623 :  Be careful Did not meet expectations Too juvenile for my intended purposes  ==  Negative\n",
      "664 :  INSTALLSHIELD V M P LT UPG EXPRESS NOT WELL it would be nice if it was actually there  ==  Positive\n",
      "896 :  Difficult Difficult to understand without any guides  ==  Negative\n"
     ]
    }
   ],
   "source": [
    "for index in mismatches:\n",
    "  if len(X_test.iloc[index]) < 100:\n",
    "    print(index, \": \", X_test.iloc[index], \" == \", y_test.iloc[index])"
   ]
  },
  {
   "cell_type": "markdown",
   "metadata": {
    "id": "aAiOb_9O8Gd2"
   },
   "source": [
    "## 3.3.3 Naïve Bayes"
   ]
  },
  {
   "cell_type": "code",
   "execution_count": 19,
   "metadata": {
    "colab": {
     "base_uri": "https://localhost:8080/"
    },
    "id": "fM_kq9DM8exw",
    "outputId": "bb44ca14-a252-47a2-e732-d217c8d86820"
   },
   "outputs": [
    {
     "name": "stdout",
     "output_type": "stream",
     "text": [
      "Multinomial Naive Bayes:\n",
      "Accuracy:\n",
      "=========\n",
      "TRAIN: 0.92\n",
      "TEST: 0.6955555555555556\n",
      "\n",
      "Confusion Matrix:\n",
      "[[238  53   9]\n",
      " [ 85 194  21]\n",
      " [ 34  72 194]]\n"
     ]
    }
   ],
   "source": [
    "nb = MultinomialNB(alpha=1.0, fit_prior=True)\n",
    "nb.fit(train_word_features_tfidf, y_train)\n",
    "\n",
    "# calculating results\n",
    "y_pred_train = nb.predict(train_word_features_tfidf)\n",
    "y_pred = nb.predict(test_word_features_tfidf)\n",
    "\n",
    "print(\"Multinomial Naive Bayes:\")\n",
    "print(\"Accuracy:\"); print(\"=\"*len(\"Accuracy:\"))\n",
    "print(f\"TRAIN: {accuracy_score(y_train, y_pred_train)}\")\n",
    "print(f\"TEST: {accuracy_score(y_test, y_pred)}\")\n",
    "\n",
    "cm = confusion_matrix(y_test, y_pred)\n",
    "print(\"\\nConfusion Matrix:\")\n",
    "print(cm)"
   ]
  },
  {
   "cell_type": "markdown",
   "metadata": {
    "id": "jgWETX4d8v2A"
   },
   "source": [
    "## 3.3.4 Gradient Boosting"
   ]
  },
  {
   "cell_type": "code",
   "execution_count": 20,
   "metadata": {
    "id": "03LgvkxN8sx9"
   },
   "outputs": [
    {
     "name": "stdout",
     "output_type": "stream",
     "text": [
      "Gradient Boosting:\n",
      "Accuracy:\n",
      "=========\n",
      "TRAIN: 0.98\n",
      "TEST: 0.6711111111111111\n",
      "\n",
      "Confusion Matrix:\n",
      "[[222  59  19]\n",
      " [ 81 168  51]\n",
      " [ 22  64 214]]\n"
     ]
    }
   ],
   "source": [
    "gb = GradientBoostingClassifier(learning_rate=0.1, n_estimators=250, random_state=42)\n",
    "gb.fit(train_word_features_tfidf, y_train)\n",
    "\n",
    "# calculating results\n",
    "y_pred_train = gb.predict(train_word_features_tfidf)\n",
    "y_pred = gb.predict(test_word_features_tfidf)\n",
    "\n",
    "print(\"Gradient Boosting:\")\n",
    "print(\"Accuracy:\"); print(\"=\"*len(\"Accuracy:\"))\n",
    "print(f\"TRAIN: {accuracy_score(y_train, y_pred_train)}\")\n",
    "print(f\"TEST: {accuracy_score(y_test, y_pred)}\")\n",
    "\n",
    "cm = confusion_matrix(y_test, y_pred)\n",
    "print(\"\\nConfusion Matrix:\")\n",
    "print(cm)"
   ]
  },
  {
   "cell_type": "markdown",
   "metadata": {
    "id": "tCenFoEK86P7"
   },
   "source": [
    "## 3.3.5 MLP"
   ]
  },
  {
   "cell_type": "code",
   "execution_count": 21,
   "metadata": {
    "colab": {
     "base_uri": "https://localhost:8080/"
    },
    "id": "dYf4jZ518u-b",
    "outputId": "ceb2f8d5-1230-46fb-d68b-fbc52509c591"
   },
   "outputs": [
    {
     "name": "stdout",
     "output_type": "stream",
     "text": [
      "MLP:\n",
      "Accuracy:\n",
      "=========\n",
      "TRAIN: 1.0\n",
      "TEST: 0.6688888888888889\n",
      "\n",
      "Confusion Matrix:\n",
      "[[216  68  16]\n",
      " [ 70 173  57]\n",
      " [ 27  60 213]]\n"
     ]
    }
   ],
   "source": [
    "mlp = MLPClassifier(activation='tanh', alpha=0.1, hidden_layer_sizes=(100,), random_state=42)\n",
    "mlp.fit(train_word_features_tfidf, y_train)\n",
    "\n",
    "# calculating results\n",
    "y_pred_train = mlp.predict(train_word_features_tfidf)\n",
    "y_pred = mlp.predict(test_word_features_tfidf)\n",
    "\n",
    "print(\"MLP:\")\n",
    "print(\"Accuracy:\"); print(\"=\"*len(\"Accuracy:\"))\n",
    "print(f\"TRAIN: {accuracy_score(y_train, y_pred_train)}\")\n",
    "print(f\"TEST: {accuracy_score(y_test, y_pred)}\")\n",
    "\n",
    "cm = confusion_matrix(y_test, y_pred)\n",
    "print(\"\\nConfusion Matrix:\")\n",
    "print(cm)"
   ]
  },
  {
   "cell_type": "code",
   "execution_count": 22,
   "metadata": {
    "colab": {
     "base_uri": "https://localhost:8080/"
    },
    "id": "fKMwdGMmHsQa",
    "outputId": "441f5628-5207-4987-e799-117d4403f8fd"
   },
   "outputs": [
    {
     "data": {
      "text/plain": [
       "array([  0,   7,   8,   9,  12,  14,  15,  16,  24,  28,  34,  38,  44,\n",
       "        50,  57,  58,  61,  63,  65,  66,  67,  69,  70,  71,  72,  76,\n",
       "        78,  82,  84,  88,  89,  92,  95,  98,  99, 102, 107, 108, 109,\n",
       "       113, 115, 118, 123, 125, 128, 130, 132, 133, 134, 143, 145, 147,\n",
       "       149, 151, 154, 160, 167, 168, 172, 173, 175, 185, 187, 197, 201,\n",
       "       202, 203, 205, 206, 209, 210, 211, 212, 215, 216, 220, 222, 224,\n",
       "       227, 235, 236, 237, 240, 241, 242, 243, 244, 251, 254, 256, 260,\n",
       "       263, 268, 269, 271, 282, 286, 287, 290, 293, 299, 301, 302, 307,\n",
       "       314, 316, 317, 320, 327, 329, 339, 340, 344, 351, 357, 360, 361,\n",
       "       365, 367, 369, 371, 376, 377, 381, 386, 392, 399, 402, 405, 409,\n",
       "       411, 413, 414, 417, 418, 422, 423, 424, 425, 426, 429, 433, 438,\n",
       "       445, 446, 450, 453, 454, 455, 457, 460, 462, 465, 466, 467, 469,\n",
       "       470, 474, 476, 483, 484, 487, 495, 505, 507, 511, 512, 516, 525,\n",
       "       529, 530, 531, 536, 537, 538, 539, 542, 543, 549, 551, 552, 554,\n",
       "       559, 563, 564, 568, 571, 574, 579, 587, 588, 591, 594, 598, 599,\n",
       "       601, 603, 604, 608, 610, 611, 617, 620, 623, 624, 627, 628, 629,\n",
       "       630, 632, 634, 640, 641, 646, 647, 653, 662, 664, 669, 670, 671,\n",
       "       672, 675, 677, 682, 684, 685, 689, 691, 693, 696, 697, 702, 703,\n",
       "       710, 712, 718, 725, 726, 727, 729, 731, 737, 738, 742, 744, 763,\n",
       "       769, 771, 775, 782, 786, 787, 788, 792, 793, 795, 796, 797, 801,\n",
       "       804, 810, 812, 813, 814, 816, 819, 823, 825, 836, 839, 842, 843,\n",
       "       845, 847, 848, 850, 852, 853, 856, 857, 861, 862, 867, 869, 872,\n",
       "       876, 877, 878, 881, 884, 885, 886, 889, 891, 894, 896, 897],\n",
       "      dtype=int64)"
      ]
     },
     "execution_count": 22,
     "metadata": {},
     "output_type": "execute_result"
    }
   ],
   "source": [
    "mismatches = np.where(y_test != y_pred)[0]\n",
    "mismatches"
   ]
  },
  {
   "cell_type": "code",
   "execution_count": 23,
   "metadata": {
    "colab": {
     "base_uri": "https://localhost:8080/"
    },
    "id": "qf5QaofWIiD6",
    "outputId": "6d77bdaf-c6ef-4caf-9ae2-38c6cbdce6d1"
   },
   "outputs": [
    {
     "name": "stdout",
     "output_type": "stream",
     "text": [
      "8 :  versacheck home business want everyone to try this product\n",
      "102 :  Tax prep made simpler Useful product for do it yourselfer\n",
      "251 :  So so It works well but my computer wasn t protected\n",
      "413 :  Good as usual have used turbotax before It is the same as expected\n",
      "423 :  okay Okay\n",
      "470 :  Some funny stuff but more corny stuff Had it s good moments however little too corny\n",
      "512 :  don t as of date don t know there is Trojan on system\n",
      "588 :  Good product Good product HATE that always end up paying for additional stuff when file\n",
      "623 :  Be careful Did not meet expectations Too juvenile for my intended purposes\n",
      "664 :  INSTALLSHIELD V M P LT UPG EXPRESS NOT WELL it would be nice if it was actually there\n",
      "816 :  not bad It has lot of features but it takes some time to figure it all out\n",
      "896 :  Difficult Difficult to understand without any guides\n"
     ]
    }
   ],
   "source": [
    "for index in mismatches:\n",
    "  if len(X_test.iloc[index]) < 100:\n",
    "    print(index, \": \", X_test.iloc[index])"
   ]
  },
  {
   "cell_type": "code",
   "execution_count": 24,
   "metadata": {
    "id": "RaLY5pT5JL8G"
   },
   "outputs": [
    {
     "data": {
      "text/plain": [
       "('Neutral', 'Negative')"
      ]
     },
     "execution_count": 24,
     "metadata": {},
     "output_type": "execute_result"
    }
   ],
   "source": [
    "y_test.iloc[467], y_pred[467]"
   ]
  },
  {
   "cell_type": "markdown",
   "metadata": {
    "id": "WpRcctKBYSWL"
   },
   "source": [
    "##3.3.7 Experiments to compare the test results of the Lexicon model versus the two machine learning models"
   ]
  },
  {
   "cell_type": "code",
   "execution_count": 41,
   "metadata": {
    "id": "x50PWzXtFGYS"
   },
   "outputs": [],
   "source": [
    "import numpy as np"
   ]
  },
  {
   "cell_type": "code",
   "execution_count": 42,
   "metadata": {
    "colab": {
     "base_uri": "https://localhost:8080/"
    },
    "id": "m1azcztkAxtP",
    "outputId": "b3c3f4d3-b76b-46d6-e599-a7eb8c9c6c44"
   },
   "outputs": [
    {
     "name": "stdout",
     "output_type": "stream",
     "text": [
      "vader sentiment Positive\n",
      "Naïve Bayes prediction: ['Negative']\n",
      "MLP prediction: ['Negative']\n"
     ]
    }
   ],
   "source": [
    "# test 1\n",
    "text_1 = \"five star product? dont think so...\"\n",
    "processed_test_vader1 = preprocessing.vader_preprocessing(text_1)\n",
    "\n",
    "text_1_words = word_vectorizer_tfidf.transform([text_1])\n",
    "nb_pred = nb.predict(text_1_words)\n",
    "mlp_pred = mlp.predict(text_1_words)\n",
    "\n",
    "print('vader sentiment',vader_sentiment_analyser().sentiment(processed_test_vader1))\n",
    "print('Naïve Bayes prediction:', nb_pred)\n",
    "print('MLP prediction:', mlp_pred)"
   ]
  },
  {
   "cell_type": "code",
   "execution_count": 43,
   "metadata": {
    "colab": {
     "base_uri": "https://localhost:8080/"
    },
    "id": "NK7rN3XBDBpg",
    "outputId": "8c633fd0-2a77-402d-d435-312db26246a1"
   },
   "outputs": [
    {
     "name": "stdout",
     "output_type": "stream",
     "text": [
      "vader sentiment Positive\n",
      "Naïve Bayes prediction: ['Neutral']\n",
      "MLP prediction: ['Neutral']\n"
     ]
    }
   ],
   "source": [
    "#text_2 = 'good thing got it for free but not worth the purchase'\n",
    "text_2 = 'Good as usual have used turbotax i think It is the same as expected'\n",
    "processed_test_vader2 = preprocessing.vader_preprocessing(text_2)\n",
    "\n",
    "text_2_words = word_vectorizer_tfidf.transform([text_2])\n",
    "nb_pred_2 = nb.predict(text_2_words)\n",
    "mlp_pred_2 = mlp.predict(text_2_words)\n",
    "\n",
    "print('vader sentiment',vader_sentiment_analyser().sentiment(processed_test_vader2))\n",
    "print('Naïve Bayes prediction:', nb_pred_2)\n",
    "print('MLP prediction:', mlp_pred_2)"
   ]
  },
  {
   "cell_type": "code",
   "execution_count": 44,
   "metadata": {
    "colab": {
     "base_uri": "https://localhost:8080/"
    },
    "id": "B6z2zvGNFTQx",
    "outputId": "4618210e-9e75-4717-97a8-fef8d489df22"
   },
   "outputs": [
    {
     "name": "stdout",
     "output_type": "stream",
     "text": [
      "vader sentiment Positive\n",
      "Naïve Bayes prediction: ['Neutral']\n",
      "MLP prediction: ['Positive']\n"
     ]
    }
   ],
   "source": [
    "#text_3 = 'Not worth the effort to small Very little space most are giving GB free Way to small'\n",
    "text_3 = 'good thing'\n",
    "processed_test_vader3 = preprocessing.vader_preprocessing(text_3)\n",
    "\n",
    "text_3_words = word_vectorizer_tfidf.transform([processed_test_vader3])\n",
    "nb_pred_3 = nb.predict(text_3_words)\n",
    "mlp_pred_3 = mlp.predict(text_3_words)\n",
    "\n",
    "print('vader sentiment',vader_sentiment_analyser().sentiment(processed_test_vader3))\n",
    "print('Naïve Bayes prediction:', nb_pred_3)\n",
    "print('MLP prediction:', mlp_pred_3)"
   ]
  },
  {
   "cell_type": "code",
   "execution_count": 45,
   "metadata": {
    "colab": {
     "base_uri": "https://localhost:8080/"
    },
    "id": "i9qjob-vTVvw",
    "outputId": "b59ee4da-74d1-4a04-c258-aaf98604ec93"
   },
   "outputs": [
    {
     "name": "stdout",
     "output_type": "stream",
     "text": [
      "vader sentiment Positive\n",
      "Naïve Bayes prediction: ['Neutral']\n",
      "MLP prediction: ['Positive']\n"
     ]
    }
   ],
   "source": [
    "text_4 = 'not too bad but It has too many of features it takes me so much time to figure it all out'\n",
    "processed_test_vader4 = preprocessing.vader_preprocessing(text_4)\n",
    "\n",
    "text_4_words = word_vectorizer_tfidf.transform([processed_test_vader4])\n",
    "nb_pred_4 = nb.predict(text_4_words)\n",
    "mlp_pred_4 = mlp.predict(text_4_words)\n",
    "\n",
    "print('vader sentiment',vader_sentiment_analyser().sentiment(processed_test_vader4))\n",
    "print('Naïve Bayes prediction:', nb_pred_4)\n",
    "print('MLP prediction:', mlp_pred_4)"
   ]
  },
  {
   "cell_type": "code",
   "execution_count": 46,
   "metadata": {
    "colab": {
     "base_uri": "https://localhost:8080/"
    },
    "id": "yAj6ST8eT3yg",
    "outputId": "5fcc29bb-4a3e-4b55-d609-5b2f182ca3b0"
   },
   "outputs": [
    {
     "name": "stdout",
     "output_type": "stream",
     "text": [
      "vader sentiment Neutral\n",
      "Naïve Bayes prediction: ['Positive']\n",
      "MLP prediction: ['Neutral']\n"
     ]
    }
   ],
   "source": [
    "text_5 = 'It cannot be more than that. Why not use it daily?'\n",
    "processed_test_vader5 = preprocessing.vader_preprocessing(text_5)\n",
    "\n",
    "text_5_words = word_vectorizer_tfidf.transform([processed_test_vader5])\n",
    "nb_pred_5 = nb.predict(text_5_words)\n",
    "mlp_pred_5 = mlp.predict(text_5_words)\n",
    "\n",
    "print('vader sentiment',vader_sentiment_analyser().sentiment(processed_test_vader5))\n",
    "print('Naïve Bayes prediction:', nb_pred_5)\n",
    "print('MLP prediction:', mlp_pred_5)"
   ]
  },
  {
   "cell_type": "markdown",
   "metadata": {
    "id": "wYi3Ky_JcXwO"
   },
   "source": [
    "# 3.4 Rating Improvement\n",
    "\n",
    "https://colab.research.google.com/github/singhsidhukuldeep/Recommendation-System/blob/master/Building_Recommender_System_with_Surprise.ipynb#scrollTo=mBTeRS7GDC-D"
   ]
  },
  {
   "cell_type": "markdown",
   "metadata": {
    "id": "cP3ry4c1Vbm6"
   },
   "source": [
    "## Considering overall opinions"
   ]
  },
  {
   "cell_type": "code",
   "execution_count": 47,
   "metadata": {
    "id": "ui5jlQITVkro"
   },
   "outputs": [],
   "source": [
    "df_enhance =  df_processed[['reviewerID', 'asin', 'reviewText', 'reviewText_clean_vader', 'vote', 'overall']].copy()\n",
    "\n",
    "df_enhance['score_vader'] = df_enhance['reviewText_clean_vader'].apply(lambda x: vader_sentiment_analyser().scores_avg(x))\n",
    "\n",
    "# Calculate the average rating given by the same user to the same product at different time\n",
    "df_enhance['avg_rating'] = round(df_enhance.groupby(by=['reviewerID', 'asin'])['overall'].transform('mean'),2)\n",
    "\n",
    "# Calculate the discrete opinion (polarity) value (in total 5 ratings in the overall field, so project -1 to 1 polarity score to 1 - 5)\n",
    "df_enhance['score_vader_discrete'] = df_enhance['score_vader'].apply(lambda x: round(3+2*x,0))\n",
    "\n",
    "# Remove duplicated records\n",
    "df_enhance = df_enhance.sort_values(by=['vote'], ascending=False).drop_duplicates(subset=['reviewerID', 'asin'], keep='first', inplace=False)"
   ]
  },
  {
   "cell_type": "markdown",
   "metadata": {
    "id": "cnoxb0iiddL3"
   },
   "source": [
    "## Rating's Biased matrix factorization"
   ]
  },
  {
   "cell_type": "code",
   "execution_count": 54,
   "metadata": {
    "colab": {
     "base_uri": "https://localhost:8080/"
    },
    "id": "QBuPs-CLJSO3",
    "outputId": "04285d8a-58b1-4706-9646-227286a5609a"
   },
   "outputs": [
    {
     "name": "stdout",
     "output_type": "stream",
     "text": [
      "Estimating biases using sgd...\n",
      "Estimating biases using sgd...\n",
      "Estimating biases using sgd...\n",
      "Estimating biases using sgd...\n",
      "Estimating biases using sgd...\n",
      "Evaluating RMSE, MAE of algorithm BaselineOnly on 5 split(s).\n",
      "\n",
      "                  Fold 1  Fold 2  Fold 3  Fold 4  Fold 5  Mean    Std     \n",
      "RMSE (testset)    1.5056  1.5075  1.5082  1.5112  1.5101  1.5085  0.0019  \n",
      "MAE (testset)     1.2865  1.2892  1.2893  1.2914  1.2926  1.2898  0.0021  \n",
      "Fit time          2.38    2.37    2.36    2.34    2.47    2.38    0.05    \n",
      "Test time         0.24    0.23    0.22    0.24    0.23    0.23    0.01    \n",
      "Average RMSE: 1.5085129839371798\n",
      "Average MAE: 1.2898191689610228\n"
     ]
    },
    {
     "data": {
      "text/plain": [
       "['model_rating.pkl']"
      ]
     },
     "execution_count": 54,
     "metadata": {},
     "output_type": "execute_result"
    }
   ],
   "source": [
    "import numpy as np\n",
    "from surprise import Dataset, Reader\n",
    "from surprise import BaselineOnly\n",
    "from surprise.model_selection import cross_validate\n",
    "import joblib\n",
    "\n",
    "# https://surprise.readthedocs.io/en/stable/matrix_factorization.html\n",
    "\n",
    "# Load dataset\n",
    "reader_rating = Reader(rating_scale=(1,5))\n",
    "data_rating = Dataset.load_from_df(df_enhance[['reviewerID', 'asin', 'avg_rating']], reader_rating)\n",
    "\n",
    "# Build model\n",
    "model_rating = BaselineOnly(bsl_options={'method': 'sgd', 'n_epochs': 20})\n",
    "\n",
    "# Evaluate the model using cross-validation\n",
    "cv_results_rating = cross_validate(model_rating, data_rating, measures=['RMSE', 'MAE'], cv=5, verbose=True)\n",
    "\n",
    "# Print average RMSE and MAE\n",
    "print(\"Average RMSE:\", np.mean(cv_results_rating['test_rmse']))\n",
    "print(\"Average MAE:\", np.mean(cv_results_rating['test_mae']))\n",
    "\n",
    "joblib.dump(model_rating, 'model_rating.pkl')\n"
   ]
  },
  {
   "cell_type": "markdown",
   "metadata": {
    "id": "OemgnzdcdoB6"
   },
   "source": [
    "## Opinion's (polarity) Biased matrix factorization"
   ]
  },
  {
   "cell_type": "code",
   "execution_count": 55,
   "metadata": {
    "colab": {
     "base_uri": "https://localhost:8080/"
    },
    "id": "Oy3cgdYpcW8t",
    "outputId": "2096dde2-81d0-48e8-ae9e-80658378835a"
   },
   "outputs": [
    {
     "name": "stdout",
     "output_type": "stream",
     "text": [
      "Estimating biases using sgd...\n",
      "Estimating biases using sgd...\n",
      "Estimating biases using sgd...\n",
      "Estimating biases using sgd...\n",
      "Estimating biases using sgd...\n",
      "Evaluating RMSE, MAE of algorithm BaselineOnly on 5 split(s).\n",
      "\n",
      "                  Fold 1  Fold 2  Fold 3  Fold 4  Fold 5  Mean    Std     \n",
      "RMSE (testset)    1.2435  1.2416  1.2417  1.2479  1.2416  1.2433  0.0024  \n",
      "MAE (testset)     1.0169  1.0134  1.0145  1.0194  1.0127  1.0154  0.0025  \n",
      "Fit time          1.99    2.23    2.26    2.28    2.29    2.21    0.11    \n",
      "Test time         0.73    0.23    0.22    0.22    0.22    0.33    0.20    \n",
      "Average RMSE: 1.2432739794659153\n",
      "Average MAE: 1.0153860616230848\n"
     ]
    },
    {
     "data": {
      "text/plain": [
       "['model_opinion.pkl']"
      ]
     },
     "execution_count": 55,
     "metadata": {},
     "output_type": "execute_result"
    }
   ],
   "source": [
    "import numpy as np\n",
    "from surprise import Dataset, Reader\n",
    "from surprise import BaselineOnly\n",
    "from surprise.model_selection import cross_validate\n",
    "import joblib\n",
    "\n",
    "# Load dataset\n",
    "reader_opinion = Reader(rating_scale=(1,5))\n",
    "data_opinion = Dataset.load_from_df(df_enhance[['reviewerID', 'asin', 'score_vader_discrete']], reader_opinion)\n",
    "\n",
    "# Build model\n",
    "model_opinion = BaselineOnly(bsl_options={'method': 'sgd', 'n_epochs': 20})\n",
    "\n",
    "# Evaluate the model using cross-validation\n",
    "cv_results_opinion = cross_validate(model_opinion, data_opinion, measures=['RMSE', 'MAE'], cv=5, verbose=True)\n",
    "\n",
    "# Print average RMSE and MAE\n",
    "print(\"Average RMSE:\", np.mean(cv_results_opinion['test_rmse']))\n",
    "print(\"Average MAE:\", np.mean(cv_results_opinion['test_mae']))\n",
    "joblib.dump(model_opinion, 'model_opinion.pkl')\n"
   ]
  },
  {
   "cell_type": "code",
   "execution_count": 56,
   "metadata": {
    "id": "XZkvDs29d233"
   },
   "outputs": [],
   "source": [
    "# rating prediction function\n",
    "\n",
    "model_rating = joblib.load('model_rating.pkl')\n",
    "model_opinion = joblib.load('model_opinion.pkl')\n",
    "\n",
    "def predict_rating(reviewerID, asin, alpha=0.5):\n",
    "    r = model_rating.predict(reviewerID, asin).est\n",
    "    o = model_opinion.predict(reviewerID, asin).est\n",
    "    prediction = alpha * r + (1 - alpha) * o\n",
    "    return prediction"
   ]
  },
  {
   "cell_type": "code",
   "execution_count": 57,
   "metadata": {
    "colab": {
     "base_uri": "https://localhost:8080/",
     "height": 881
    },
    "id": "lZDgBq_seLlP",
    "outputId": "d2e94a05-609e-433e-92c1-fcec16fb8f99"
   },
   "outputs": [
    {
     "name": "stdout",
     "output_type": "stream",
     "text": [
      "*** review with lower adjusted rating:\n",
      "reviewerID                A2OPWMG3XM3W1T\n",
      "asin                          B00KGNVGEU\n",
      "reviewText                           Bad\n",
      "reviewText_clean_vader           bad Bad\n",
      "vote                                   2\n",
      "avg_rating                           5.0\n",
      "score_vader                      -0.7906\n",
      "score_vader_discrete                 1.0\n",
      "prediction                      1.319588\n",
      "diff                                3.68\n",
      "Name: 247285, dtype: object\n",
      "\n",
      "Review text: \n",
      "\n",
      "Bad\n",
      "\n",
      "\n"
     ]
    },
    {
     "data": {
      "image/png": "[encoded data removed]",
      "text/plain": [
       "<Figure size 1200x600 with 2 Axes>"
      ]
     },
     "metadata": {},
     "output_type": "display_data"
    }
   ],
   "source": [
    "from textwrap import wrap\n",
    "\n",
    "# Predict the ratings\n",
    "df_enhance['prediction'] = df_enhance.apply(lambda x: predict_rating(x['reviewerID'], x['asin']), axis=1)\n",
    "df_enhance['diff'] = round(df_enhance['avg_rating'] - df_enhance['prediction'],2) # show the difference between actual rating and predicted rating\n",
    "\n",
    "most_decrease_reivew = df_enhance[['reviewerID', 'asin', 'reviewText', 'reviewText_clean_vader', 'vote', 'avg_rating', 'score_vader', 'score_vader_discrete', 'prediction', 'diff']].sort_values(by='diff', ascending=False).iloc[0]\n",
    "print(f\"*** review with lower adjusted rating:\\n{most_decrease_reivew.T}\")\n",
    "\n",
    "# the review is 'Awesome', a very positive value, it seems original rating is fine\n",
    "print(f\"\\nReview text: \\n\")\n",
    "for line in wrap(most_decrease_reivew['reviewText'], width=70):\n",
    "  print(line)\n",
    "\n",
    "print('\\n')\n",
    "\n",
    "# plot the graphs\n",
    "fig, [ax1, ax2] = plt.subplots(nrows=1, ncols=2, figsize=(12, 6))\n",
    "\n",
    "# 50% of the ratings are Fives\n",
    "# 25% of the ratings are Ones\n",
    "# It makes sense to reduce the rating as 25% of the ratings are Ones\n",
    "df_enhance[df_enhance['asin']=='B00P31G9PQ'].avg_rating\\\n",
    ".value_counts().sort_index()\\\n",
    ".plot(kind='bar', ax=ax1, title='Rating Distribution for Product B00P31G9PQ')\n",
    "\n",
    "# Most of the ratings give by this reviewer is One, 21 out of 26 are Ones, only two ratings are Five\n",
    "# It makes sense to reduce the rating as Five seens to be outlier\n",
    "df_enhance[df_enhance['reviewerID']=='A2OPWMG3XM3W1T'].avg_rating\\\n",
    ".value_counts().sort_index()\\\n",
    ".plot(kind='bar', ax=ax2, title='Rating Distribution for Reviewer A2OPWMG3XM3W1T')\n",
    "\n",
    "plt.tight_layout()\n",
    "plt.show()\n",
    "\n"
   ]
  },
  {
   "cell_type": "code",
   "execution_count": 58,
   "metadata": {
    "colab": {
     "base_uri": "https://localhost:8080/"
    },
    "id": "uA8-vrh0rmgA",
    "outputId": "25512339-48ba-4370-8816-a2d0c4d480ef"
   },
   "outputs": [
    {
     "data": {
      "text/plain": [
       "avg_rating\n",
       "5.0    9\n",
       "1.0    3\n",
       "4.0    1\n",
       "Name: count, dtype: int64"
      ]
     },
     "execution_count": 58,
     "metadata": {},
     "output_type": "execute_result"
    }
   ],
   "source": [
    "df_enhance[df_enhance['reviewerID']=='ABOTQXNUBA1MM'].avg_rating\\\n",
    ".value_counts()"
   ]
  },
  {
   "cell_type": "code",
   "execution_count": 61,
   "metadata": {
    "colab": {
     "base_uri": "https://localhost:8080/",
     "height": 1000
    },
    "id": "sRrhCSbZnJ5l",
    "outputId": "a6f6762d-176e-46dc-d211-fa102ec93778"
   },
   "outputs": [
    {
     "name": "stdout",
     "output_type": "stream",
     "text": [
      "\n",
      "*** review with higher adjusted rating:\n",
      "reviewerID                                                    ASKCZ1FA8Y20I\n",
      "asin                                                             B000001A3A\n",
      "reviewText                Seems like a nice idea in so many ways. Sad th...\n",
      "reviewText_clean_vader    Not Mac compatible Too bad Seems like nice ide...\n",
      "vote                                                                      0\n",
      "avg_rating                                                              1.0\n",
      "score_vader                                                          0.2815\n",
      "score_vader_discrete                                                    4.0\n",
      "prediction                                                         4.887528\n",
      "diff                                                                  -3.89\n",
      "Name: 366972, dtype: object\n",
      "\n",
      "Review text: \n",
      "\n",
      "Seems like a nice idea in so many ways. Sad that it won't work on a\n",
      "Mac.\n"
     ]
    },
    {
     "data": {
      "image/png": "[encoded data removed]",
      "text/plain": [
       "<Figure size 1200x600 with 2 Axes>"
      ]
     },
     "metadata": {},
     "output_type": "display_data"
    }
   ],
   "source": [
    "\n",
    "most_increase_reivew = df_enhance[['reviewerID', 'asin', 'reviewText', 'reviewText_clean_vader', 'vote', 'avg_rating', 'score_vader', 'score_vader_discrete', 'prediction', 'diff']].sort_values(by='diff', ascending=True).iloc[0]\n",
    "print(f\"\\n*** review with higher adjusted rating:\\n{most_increase_reivew.T}\")\n",
    "\n",
    "\n",
    "# the review is not very negative, the rating does not align with the review\n",
    "print(f\"\\nReview text: \\n\")\n",
    "for line in wrap(most_increase_reivew['reviewText'], width=70):\n",
    "  print(line)\n",
    "\n",
    "# plot the graphs\n",
    "fig, [ax1, ax2] = plt.subplots(nrows=1, ncols=2, figsize=(12, 6))\n",
    "\n",
    "# 64% of the ratings are Fives (16/25)\n",
    "# 12% of the ratings are Ones (3/25)\n",
    "# It makes sense to increase the rating as 64% of the ratings are Fives\n",
    "df_enhance[df_enhance['asin']=='B000FK88JK'].avg_rating\\\n",
    ".value_counts().sort_index()\\\n",
    ".plot(kind='bar', ax=ax1, title='Rating Distribution for Product B000FK88JK')\n",
    "\n",
    "# Most of the ratings give by this reviewer is Five, 9 out of 12 are Fives, only this rating is One\n",
    "df_enhance[df_enhance['reviewerID']=='ABOTQXNUBA1MM'].avg_rating\\\n",
    ".value_counts().sort_index()\\\n",
    ".plot(kind='bar', ax=ax2, title='Rating Distribution for Reviewer ABOTQXNUBA1MM')\n",
    "\n",
    "plt.tight_layout()\n",
    "plt.show()\n",
    "\n"
   ]
  },
  {
   "cell_type": "markdown",
   "metadata": {
    "id": "acza-GoVcbrt"
   },
   "source": [
    "# 3.5 Text Summary (local)"
   ]
  },
  {
   "cell_type": "code",
   "execution_count": 62,
   "metadata": {
    "id": "D6Yiy9L3c4W2"
   },
   "outputs": [
    {
     "name": "stdout",
     "output_type": "stream",
     "text": [
      "WARNING:tensorflow:From c:\\Users\\yvonn\\Desktop\\Year2Sem2\\.venv\\Lib\\site-packages\\keras\\src\\losses.py:2976: The name tf.losses.sparse_softmax_cross_entropy is deprecated. Please use tf.compat.v1.losses.sparse_softmax_cross_entropy instead.\n",
      "\n",
      "WARNING:tensorflow:From c:\\Users\\yvonn\\Desktop\\Year2Sem2\\.venv\\Lib\\site-packages\\tensorflow_probability\\python\\internal\\backend\\numpy\\_utils.py:48: The name tf.logging.TaskLevelStatusMessage is deprecated. Please use tf.compat.v1.logging.TaskLevelStatusMessage instead.\n",
      "\n",
      "WARNING:tensorflow:From c:\\Users\\yvonn\\Desktop\\Year2Sem2\\.venv\\Lib\\site-packages\\tensorflow_probability\\python\\internal\\backend\\numpy\\_utils.py:48: The name tf.control_flow_v2_enabled is deprecated. Please use tf.compat.v1.control_flow_v2_enabled instead.\n",
      "\n",
      "Review 1:\n",
      "\n",
      "I have used LearnSmart and can officially say that this is an amazing\n",
      "study tool that quickly and simply adapts to your style of learning.\n",
      "You can access it at anytime and it is on the go! Once you start using\n",
      "LearnSmart you will quickly realize that this is the best way to learn\n",
      "and study.  I am a business student and I did not use LearnSmart for\n",
      "my Accounting I class, however, I did use it for my Accounting II\n",
      "class. The grade difference from Accounting I to Accounting II was a\n",
      "whole letter grade... thanks to LearnSmart!  Every college student\n",
      "should definitely check it out!\n",
      "Summary 1:\n",
      "\n",
      "T5 Summarizer:\n",
      "learnSmart is an amazing study tool that quickly and simply adapts to\n",
      "your style of learning . you can access it at anytime and it is on the\n",
      "go .\n",
      "\n",
      "GPT2 Summarizer:\n",
      "I have used LearnSmart and can officially say that this is an amazing\n",
      "study tool that quickly and simply adapts to your style of learning.\n",
      "You can access it at anytime and it is on the go! Once you start using\n",
      "LearnSmart you will quickly realize that this is the best way to learn\n",
      "and study.  I am a business student and I did not use LearnSmart for\n",
      "my Accounting I class, however, I did use it for my Accounting II\n",
      "class. The grade difference from Accounting I to Accounting II was a\n",
      "whole letter grade... thanks to LearnSmart!  Every college student\n",
      "should definitely check it out! TL;DR: learn smart  When we first\n",
      "started learning for our classes on August 20, 2015 it was my top\n",
      "favourite book I had ever read, but that was just prior to my first\n",
      "class started on August 14 and I was still in the middle of\n",
      "\n",
      "\n",
      "Review 2:\n",
      "\n",
      "Maybe it's just me (I have no marketing background but desperately\n",
      "want to learn for my start-up) but I cannot get hardly anything out of\n",
      "this text. I have tried very hard to tread through the writing and\n",
      "learn something useful but chapter after chapter seems to be the exact\n",
      "same thing... overly wordy, rambling & unnecessarily academic writing\n",
      "with no comprehensible message behind it, no strategies I can apply to\n",
      "my own business and no organization that I can make sense of. Feels\n",
      "almost like I'm reading a paper a college student BSed their way\n",
      "through with a whole bunch of long words and cryptic sentences in\n",
      "order to sound impressive. What a rip-off. I paid $70 for this and it\n",
      "has been the most useless book I've paid for in my research process\n",
      "(and I've read 16 other books thus far to help me with my venture).\n",
      "The only reason I'm giving this two stars and not one star is that out\n",
      "of the first six chapters I've read, two of them actually made sense.\n",
      "One was on International Marketing and did a very good job explaining\n",
      "the technology limitations of other countries and the ways foreign\n",
      "citizens adapt to this and use technology. This is actually very\n",
      "helpful information and I'm going to use it. The second was on the\n",
      "legal and ethical aspects of using the internet. It gave an extremely\n",
      "concise explanation with lots of info and it was easily\n",
      "understandable. Unfortunately, I've read a chapter like this over and\n",
      "over and over again in pretty much every e-business book I've picked\n",
      "up so far so it's getting old.\n",
      "Summary 2:\n",
      "\n",
      "T5 Summarizer:\n",
      "the only reason I'm giving this two stars is that out of the first six\n",
      "chapters I've read, two of them actually made sense . one was on\n",
      "international marketing and did a very good job explaining the\n",
      "technology limitations of other\n",
      "\n",
      "GPT2 Summarizer:\n",
      "Maybe it's just me (I have no marketing background but desperately\n",
      "want to learn for my start-up) but I cannot get hardly anything out of\n",
      "this text. I have tried very hard to tread through the writing and\n",
      "learn something useful but chapter after chapter seems to be the exact\n",
      "same thing... overly wordy, rambling & unnecessarily academic writing\n",
      "with no comprehensible message behind it, no strategies I can apply to\n",
      "my own business and no organization that I can make sense of. Feels\n",
      "almost like I'm reading a paper a college student BSed their way\n",
      "through with a whole bunch of long words and cryptic sentences in\n",
      "order to sound impressive. What a rip-off. I paid $70 for this and it\n",
      "has been the most useless book I've paid for in my research process\n",
      "(and I've read 16 other books thus far to help me with my venture).\n",
      "The only reason I'm giving this two stars and not one star is that out\n",
      "of the first six chapters I've read, two of them actually made sense.\n",
      "One was on International Marketing and did a very good job explaining\n",
      "the technology limitations of other countries and the ways foreign\n",
      "citizens adapt to this and use technology. This is actually very\n",
      "helpful information and I'm going to use it. The second was on the\n",
      "legal and ethical aspects of using the internet. It gave an extremely\n",
      "concise explanation with lots of info and it was easily\n",
      "understandable. Unfortunately, I've read a chapter like this over and\n",
      "over and over again in pretty much every e-business book I've picked\n",
      "up so far so it's getting old. TL;DR - don't give this a bad review (I\n",
      "love books written by foreigners in foreign countries, and it gives me\n",
      "an excellent basis to work on my own business) and only try to write\n",
      "stuff about it. And be fair and I'm not a\n",
      "\n",
      "\n",
      "Review 3:\n",
      "\n",
      "This book served as the textbook for the first of a 3-course series on\n",
      "internet marketing for my MBA course.  While it was acceptable as a\n",
      "textbook - a broad survey of E-commerce for academic use - it would\n",
      "not be worth the considerable cost for someone who did not need it for\n",
      "a course.  For an academic course, the book serves as a base by\n",
      "providing definitions and explanations for a broad range of topics.\n",
      "In my course, the book was used to introduce a number of topics that\n",
      "were discussed in further detail during class discussions, and it was\n",
      "supplemented by case studies, videos, and articles with more depth.  A\n",
      "non-academic reader would not have those enrichment elements\n",
      "available, thus would likely find the book less useful.  The book does\n",
      "not explain how to do anything (set up an online store, write a blog\n",
      "article, configure analytics, etc.).  It is a decent text for someone\n",
      "looking for a broad view of e-commerce with emphasis on defining terms\n",
      "and covering the big picture.  I do not recommend this book for\n",
      "anything other than a required course text.\n",
      "Summary 3:\n",
      "\n",
      "T5 Summarizer:\n",
      "the book serves as a base by providing definitions and explanations\n",
      "for a broad range of topics . it was used to introduce a number of\n",
      "topics discussed in further detail during class discussions . a non-\n",
      "academic\n",
      "\n",
      "GPT2 Summarizer:\n",
      "This book served as the textbook for the first of a 3-course series on\n",
      "internet marketing for my MBA course.  While it was acceptable as a\n",
      "textbook - a broad survey of E-commerce for academic use - it would\n",
      "not be worth the considerable cost for someone who did not need it for\n",
      "a course.  For an academic course, the book serves as a base by\n",
      "providing definitions and explanations for a broad range of topics.\n",
      "In my course, the book was used to introduce a number of topics that\n",
      "were discussed in further detail during class discussions, and it was\n",
      "supplemented by case studies, videos, and articles with more depth.  A\n",
      "non-academic reader would not have those enrichment elements\n",
      "available, thus would likely find the book less useful.  The book does\n",
      "not explain how to do anything (set up an online store, write a blog\n",
      "article, configure analytics, etc.).  It is a decent text for someone\n",
      "looking for a broad view of e-commerce with emphasis on defining terms\n",
      "and covering the big picture.  I do not recommend this book for\n",
      "anything other than a required course text. TL;DR - Buy the book at\n",
      "Amazon, read both of the pre-sold, pre-packed, and full-price\n",
      "eCommerce resources, and don't go to Amazon if you can't get a real\n",
      "book.  5 out of 5 (5\n",
      "\n",
      "\n",
      "Review 4:\n",
      "\n",
      "Disappointing textbook. To start, the lack of color is dismal, but of\n",
      "less importance. However, from a MARKETING book, I expected it to be a\n",
      "little more eye-grabbing. More importantly this book regularly cites\n",
      "wikipedia as a source, and I caught at least two examples of incorrect\n",
      "information when discussing how companies fit certain profiles. In one\n",
      "example it states that Kit Kat is a Nestle brand when it is produced\n",
      "by Hershey's. It also uses companies as examples that have long since\n",
      "been bought out by other companies. While neither of these two items\n",
      "errodes the core idea of marketing, they were just easily spotted. It\n",
      "makes it difficult to trust the core information when something so\n",
      "simple as a little research could correct these errors. Along with the\n",
      "wikipedia citing, I don't know that I would trust this source as\n",
      "'authoritive'\n",
      "Summary 4:\n",
      "\n",
      "T5 Summarizer:\n",
      "the lack of color is dismal, but of less importance . this book\n",
      "regularly cites wikipedia as a source . it also uses companies as\n",
      "examples that have long since been bought out .\n",
      "\n",
      "GPT2 Summarizer:\n",
      "Disappointing textbook. To start, the lack of color is dismal, but of\n",
      "less importance. However, from a MARKETING book, I expected it to be a\n",
      "little more eye-grabbing. More importantly this book regularly cites\n",
      "wikipedia as a source, and I caught at least two examples of incorrect\n",
      "information when discussing how companies fit certain profiles. In one\n",
      "example it states that Kit Kat is a Nestle brand when it is produced\n",
      "by Hershey's. It also uses companies as examples that have long since\n",
      "been bought out by other companies. While neither of these two items\n",
      "errodes the core idea of marketing, they were just easily spotted. It\n",
      "makes it difficult to trust the core information when something so\n",
      "simple as a little research could correct these errors. Along with the\n",
      "wikipedia citing, I don't know that I would trust this source as\n",
      "'authoritive' TL;DR. If you want to learn what's going on, there are\n",
      "several blogs that have a page that will give an overview of all the\n",
      "info surrounding Nestle. You won't get a great overview of Nestle's\n",
      "history (like that of the\n",
      "\n",
      "\n",
      "Review 5:\n",
      "\n",
      "I've been working with Dreamweaver for a few years now - learning as I\n",
      "go. When I got a chance to request these videos, I thought I'd get a\n",
      "chance to learn Dreamweaver, finally, to maximize its capabilities.\n",
      "And I was totally blown away.  The videos are superb. The female\n",
      "voiceover is pleasant and very straightforward; there's no attempt at\n",
      "humor and no attempt to replicate a classroom course. The program uses\n",
      "live action sequences to walk us through specific examples, step by\n",
      "step. I was amazed at how many Dreamweaver features I haven't used,\n",
      "just because I didn't even notice they were there.  I am not a web\n",
      "designer but I do know HTML and some CSS. If you don't, I'm not sure\n",
      "the opening video will be enough. It's not like Wordpress where you\n",
      "just dive in.  The only negative comment I can offer is that the DVD\n",
      "was really hard to dig out of the box! Grab some scissors before\n",
      "getting started.\n",
      "Summary 5:\n",
      "\n",
      "T5 Summarizer:\n",
      "the videos are superb. the female voiceover is pleasant and very\n",
      "straightforward . there's no attempt at humor and no attempt to\n",
      "replicate a classroom course . the program uses live action sequences\n",
      "to walk us through specific examples .\n",
      "\n",
      "GPT2 Summarizer:\n",
      "I've been working with Dreamweaver for a few years now - learning as I\n",
      "go. When I got a chance to request these videos, I thought I'd get a\n",
      "chance to learn Dreamweaver, finally, to maximize its capabilities.\n",
      "And I was totally blown away.  The videos are superb. The female\n",
      "voiceover is pleasant and very straightforward; there's no attempt at\n",
      "humor and no attempt to replicate a classroom course. The program uses\n",
      "live action sequences to walk us through specific examples, step by\n",
      "step. I was amazed at how many Dreamweaver features I haven't used,\n",
      "just because I didn't even notice they were there.  I am not a web\n",
      "designer but I do know HTML and some CSS. If you don't, I'm not sure\n",
      "the opening video will be enough. It's not like Wordpress where you\n",
      "just dive in.  The only negative comment I can offer is that the DVD\n",
      "was really hard to dig out of the box! Grab some scissors before\n",
      "getting started. TL;DR for those wishing to watch:  Dreamweaver is not\n",
      "cheap. It has several drawbacks. While the budget is not the same for\n",
      "every budget, it's still very good and I couldn't be happier.\n",
      "Dreamweaver can't\n",
      "\n",
      "\n",
      "Review 6:\n",
      "\n",
      "Candyce Mairs' offering is not only excellent, it is \"distintive.\"\n",
      "Her presentational style is perfectly paced, and always directly to\n",
      "the point at hand.  I learned so much about Adobe's new version of\n",
      "Dreamweaver (CS5), that I cannot begin to explain.  Of particular note\n",
      "are the \"assets\" (Dreamweaver and related files) which are included on\n",
      "the DVD, making personal practice of the skills learned a snap.  For\n",
      "those new to web design, Candyce covers many foundational skills (such\n",
      "as HTML and CSS), along with Dreamweaver-specific functionality.  I\n",
      "would give this title six (6) stars, if I could.  In addition to\n",
      "thanking Candyce Mairs, I also applaud the folks at Video2Brain.\n",
      "Great pedagogical tools!  Thank you to all who facilitated my learning\n",
      "of the CS5 in a \"ramped up\" fashion. Dennis Woodhall, M.I.S., Woodhall\n",
      "Web Design and Hosting.\n",
      "Summary 6:\n",
      "\n",
      "T5 Summarizer:\n",
      "Candyce Mairs' presentational style is perfectly paced, and always\n",
      "directly to the point at hand . she covers many foundational skills\n",
      "(such as HTML and CSS) and Dreamweaver-specific functionality.\n",
      "\n",
      "GPT2 Summarizer:\n",
      "Candyce Mairs' offering is not only excellent, it is \"distintive.\"\n",
      "Her presentational style is perfectly paced, and always directly to\n",
      "the point at hand.  I learned so much about Adobe's new version of\n",
      "Dreamweaver (CS5), that I cannot begin to explain.  Of particular note\n",
      "are the \"assets\" (Dreamweaver and related files) which are included on\n",
      "the DVD, making personal practice of the skills learned a snap.  For\n",
      "those new to web design, Candyce covers many foundational skills (such\n",
      "as HTML and CSS), along with Dreamweaver-specific functionality.  I\n",
      "would give this title six (6) stars, if I could.  In addition to\n",
      "thanking Candyce Mairs, I also applaud the folks at Video2Brain.\n",
      "Great pedagogical tools!  Thank you to all who facilitated my learning\n",
      "of the CS5 in a \"ramped up\" fashion. Dennis Woodhall, M.I.S., Woodhall\n",
      "Web Design and Hosting. TL;DR Video2Brain Video2Brain\n",
      "Vimeo.com/PIC-3dCandyce Video2Brain\n",
      "\n",
      "\n",
      "Review 7:\n",
      "\n",
      "I spent several hours on the lesson and I love it. It is very detailed\n",
      "and very clear. The instructions with the graph and the audio and the\n",
      "video playback is very nice. You can cut or repeat any lesson you need\n",
      "and come back and review at your convenience. The lesson starts with\n",
      "very fundamental knowledge of what an URL is and allow the students to\n",
      "know what is the source code, the layout and how to use the tools and\n",
      "maneuver in the Dreamweaver app. It is an excellent tool to have. Most\n",
      "of us uses some of the tools but not all of the tools.  Some I don't\n",
      "even know the function was there. It is nice to have a teacher like\n",
      "this I can go to easily without calling expensive tech support. Highly\n",
      "recommend this teaching series.\n",
      "Summary 7:\n",
      "\n",
      "T5 Summarizer:\n",
      "the lesson starts with very fundamental knowledge of what an URL is .\n",
      "you can cut or repeat any lesson you need and come back and review at\n",
      "your convenience .\n",
      "\n",
      "GPT2 Summarizer:\n",
      "I spent several hours on the lesson and I love it. It is very detailed\n",
      "and very clear. The instructions with the graph and the audio and the\n",
      "video playback is very nice. You can cut or repeat any lesson you need\n",
      "and come back and review at your convenience. The lesson starts with\n",
      "very fundamental knowledge of what an URL is and allow the students to\n",
      "know what is the source code, the layout and how to use the tools and\n",
      "maneuver in the Dreamweaver app. It is an excellent tool to have. Most\n",
      "of us uses some of the tools but not all of the tools.  Some I don't\n",
      "even know the function was there. It is nice to have a teacher like\n",
      "this I can go to easily without calling expensive tech support. Highly\n",
      "recommend this teaching series. TL;DR: Try other content or help\n",
      "yourself learn with some tools that you have never used before, if\n",
      "you've got some ideas on how to use them, you've come a long way.  I\n",
      "just wish I could do a little faster and use\n",
      "\n",
      "\n",
      "Review 8:\n",
      "\n",
      "I'm about 3/4 through this course.  I have been using Dreamweaver for\n",
      "about 10 years but find it's good to take a course now and then to\n",
      "learn more about the program.  I mostly learned by myself so it's good\n",
      "to learn things I wasn't aware of.  I find the instructors voice\n",
      "pleasant and thorough although I thought it took way too long to get\n",
      "down to business.  I didn't really feel like I was learning or doing\n",
      "anything until well into the lessons.  She also seemed to wander off\n",
      "course to much for my liking.  I also found that she didn't prep me\n",
      "well enough for each lesson by telling me what files I needed and\n",
      "setting up Dreamweaver for each lesson.  I was frequently going to the\n",
      "DVD's Assets folder to get files that were missing from the lessons.\n",
      "Luckily I have been using Dreamweaver long enough to know how to\n",
      "troubleshoot and find the missing parts.  But I wonder if a beginner\n",
      "would get confused and not know what to do without careful lesson\n",
      "setup.  And I could swear there were a few mistakes on the lesson's\n",
      "end in the quiz answers at the end of each lesson.  Some questions\n",
      "were confusing.  All in all this is great way to learn visually.  Much\n",
      "better than a book in my opinion.  But I would ask for a good deal\n",
      "more attention in not leaving the student in the dark at times.\n",
      "Summary 8:\n",
      "\n",
      "T5 Summarizer:\n",
      "I have been using Dreamweaver for about 10 years but find it's good to\n",
      "take a course now and then to learn more about the program . the\n",
      "instructors voice pleasant and thorough although I thought it took way\n",
      "too long to\n",
      "\n",
      "GPT2 Summarizer:\n",
      "I'm about 3/4 through this course.  I have been using Dreamweaver for\n",
      "about 10 years but find it's good to take a course now and then to\n",
      "learn more about the program.  I mostly learned by myself so it's good\n",
      "to learn things I wasn't aware of.  I find the instructors voice\n",
      "pleasant and thorough although I thought it took way too long to get\n",
      "down to business.  I didn't really feel like I was learning or doing\n",
      "anything until well into the lessons.  She also seemed to wander off\n",
      "course to much for my liking.  I also found that she didn't prep me\n",
      "well enough for each lesson by telling me what files I needed and\n",
      "setting up Dreamweaver for each lesson.  I was frequently going to the\n",
      "DVD's Assets folder to get files that were missing from the lessons.\n",
      "Luckily I have been using Dreamweaver long enough to know how to\n",
      "troubleshoot and find the missing parts.  But I wonder if a beginner\n",
      "would get confused and not know what to do without careful lesson\n",
      "setup.  And I could swear there were a few mistakes on the lesson's\n",
      "end in the quiz answers at the end of each lesson.  Some questions\n",
      "were confusing.  All in all this is great way to learn visually.  Much\n",
      "better than a book in my opinion.  But I would ask for a good deal\n",
      "more attention in not leaving the student in the dark at times. TL;DR\n",
      "-- Dreamweaver does not let students get confused or fail them. I have\n",
      "not personally experienced much learning going on in the virtual\n",
      "environment but I believe the instructors at Dreamweaver had some\n",
      "experience that is better than me and I would recommend them all\n",
      "\n",
      "\n",
      "Review 9:\n",
      "\n",
      "For the cost of about $40 and 12 hours of your time, you can pretty\n",
      "effectively learn Adobe's Dreamweaver CS5 at your own pace and\n",
      "location. It is not a DVD that you just pop into a DVD player to sit\n",
      "back and watch passively on TV. In fact, this DVD is only playable on\n",
      "the computer, because it requires you to use the mouse to select many\n",
      "of its options.  It's interactive and allows you to go to any and\n",
      "section as needed. At the end of each chapter, there is a test that\n",
      "you can take to see how well you have been learning.  There are 17\n",
      "chapters and each chapter is divided into various sections. In the\n",
      "Training Content screen, which is the home screen when you play the\n",
      "DVD, each chapter and section has its heading clearly spelled out, so\n",
      "that you know where to go when you are looking for a particular video.\n",
      "It's the sections that you can click to play; the chapters are just\n",
      "\"folder names\" for organization purposes. Each section can vary from\n",
      "less than 3 minutes to more than 13 minutes long, depending on the\n",
      "complexity of the topic discussed. You can pause the video at any\n",
      "time, and there is captioning at the bottom of the screen to enhance\n",
      "your learning experience. The sub-titling is also valuable for non-\n",
      "English learners to help them understand what was spoken.  If you are\n",
      "a beginner, the best way to learn this program is to start from\n",
      "chapter 1, section 1 and proceed in order to the last chaper, because\n",
      "this video starts with the basics and progresses to more and more\n",
      "complex topics.  Compared to classroom instruction, I prefer using\n",
      "this Learn by Video DVD because it is very well produced with the\n",
      "instructor speaking clearly and the contents well organized. You can\n",
      "learn at your pace, always go back to review any section, and there is\n",
      "no way you can take a classroom instruction course for $40.\n",
      "Summary 9:\n",
      "\n",
      "T5 Summarizer:\n",
      "you can learn Adobe's Dreamweaver CS5 at your own pace and location .\n",
      "it's interactive and allows you to go to any and section as needed .\n",
      "each chapter has its heading clearly spelled out\n",
      "\n",
      "GPT2 Summarizer:\n",
      "For the cost of about $40 and 12 hours of your time, you can pretty\n",
      "effectively learn Adobe's Dreamweaver CS5 at your own pace and\n",
      "location. It is not a DVD that you just pop into a DVD player to sit\n",
      "back and watch passively on TV. In fact, this DVD is only playable on\n",
      "the computer, because it requires you to use the mouse to select many\n",
      "of its options.  It's interactive and allows you to go to any and\n",
      "section as needed. At the end of each chapter, there is a test that\n",
      "you can take to see how well you have been learning.  There are 17\n",
      "chapters and each chapter is divided into various sections. In the\n",
      "Training Content screen, which is the home screen when you play the\n",
      "DVD, each chapter and section has its heading clearly spelled out, so\n",
      "that you know where to go when you are looking for a particular video.\n",
      "It's the sections that you can click to play; the chapters are just\n",
      "\"folder names\" for organization purposes. Each section can vary from\n",
      "less than 3 minutes to more than 13 minutes long, depending on the\n",
      "complexity of the topic discussed. You can pause the video at any\n",
      "time, and there is captioning at the bottom of the screen to enhance\n",
      "your learning experience. The sub-titling is also valuable for non-\n",
      "English learners to help them understand what was spoken.  If you are\n",
      "a beginner, the best way to learn this program is to start from\n",
      "chapter 1, section 1 and proceed in order to the last chaper, because\n",
      "this video starts with the basics and progresses to more and more\n",
      "complex topics.  Compared to classroom instruction, I prefer using\n",
      "this Learn by Video DVD because it is very well produced with the\n",
      "instructor speaking clearly and the contents well organized. You can\n",
      "learn at your pace, always go back to review any section, and there is\n",
      "no way you can take a classroom instruction course for $40. TL;DR I\n",
      "prefer this. The instructional sections may be well written but the\n",
      "action is fluid and easy so no effort was put into the learning\n",
      "process. I feel like this DVD, even with all that added to the price\n",
      "and the quality of the video, is\n",
      "\n",
      "\n",
      "Review 10:\n",
      "\n",
      "As a print designer and Adobe CS user, I was most humbled by how\n",
      "different Dreamweaver is from my tools of choice, InDesign,\n",
      "Illustrator and Photoshop. This summer, when I had to learn\n",
      "Dreamweaver on the fly, I relied upon web forums and a nearly useless\n",
      "Dreamweaver book to get by. Now that I've completed one project, I'm\n",
      "finally ready and motived to learn after years of resistance. Enter\n",
      "Learn Adobe: Dreamweaver CS5 by Video at just the right time.  With\n",
      "more than 12 hours of video training and a full-color 120-page guide I\n",
      "can finally comprehend the basic principles of web design. The course\n",
      "covers an HTML refresher, good preparation for what's to come. I\n",
      "learned how to use the workspace to my advantage, how to add text,\n",
      "images and incorporate rich media and finally learned the proper way\n",
      "to use tables and forms. The publishing how-to is the icing on the\n",
      "cake and I can credit the video for my comprehension. It's much like\n",
      "having a private teacher who will patiently wait (when you press\n",
      "\"pause\") until you grasp a concept before moving on. Wish I had it a\n",
      "few months ago, but it'll be invaluable in the future. Recommended.\n",
      "Summary 10:\n",
      "\n",
      "T5 Summarizer:\n",
      "learn Adobe: Dreamweaver CS5 by Video at just the right time . the\n",
      "course covers an HTML refresher, good preparation for what's to come .\n",
      "I can credit the video for my comprehension .\n",
      "\n",
      "GPT2 Summarizer:\n",
      "As a print designer and Adobe CS user, I was most humbled by how\n",
      "different Dreamweaver is from my tools of choice, InDesign,\n",
      "Illustrator and Photoshop. This summer, when I had to learn\n",
      "Dreamweaver on the fly, I relied upon web forums and a nearly useless\n",
      "Dreamweaver book to get by. Now that I've completed one project, I'm\n",
      "finally ready and motived to learn after years of resistance. Enter\n",
      "Learn Adobe: Dreamweaver CS5 by Video at just the right time.  With\n",
      "more than 12 hours of video training and a full-color 120-page guide I\n",
      "can finally comprehend the basic principles of web design. The course\n",
      "covers an HTML refresher, good preparation for what's to come. I\n",
      "learned how to use the workspace to my advantage, how to add text,\n",
      "images and incorporate rich media and finally learned the proper way\n",
      "to use tables and forms. The publishing how-to is the icing on the\n",
      "cake and I can credit the video for my comprehension. It's much like\n",
      "having a private teacher who will patiently wait (when you press\n",
      "\"pause\") until you grasp a concept before moving on. Wish I had it a\n",
      "few months ago, but it'll be invaluable in the future. Recommended.\n",
      "TL;DR: Learn Adobe Dreamweaver CS5 at my own risk.  I'm more used to\n",
      "using Adobe. There are already too many options, even in the software\n",
      "space which does not use Adobe software, for beginners working with\n",
      "Adobe CS that do\n",
      "\n",
      "\n"
     ]
    },
    {
     "data": {
      "text/plain": [
       "\"\\nReview 1:\\n\\nI have used LearnSmart and can officially say that this is an amazing\\nstudy tool that quickly and simply adapts to your style of learning.\\nYou can access it at anytime and it is on the go! Once you start using\\nLearnSmart you will quickly realize that this is the best way to learn\\nand study.  I am a business student and I did not use LearnSmart for\\nmy Accounting I class, however, I did use it for my Accounting II\\nclass. The grade difference from Accounting I to Accounting II was a\\nwhole letter grade... thanks to LearnSmart!  Every college student\\nshould definitely check it out!\\nSummary 1:\\n\\nT5 Summarizer:\\nlearnSmart is an amazing study tool that quickly and simply adapts to\\nyour style of learning . you can access it at anytime and it is on the\\ngo .\\n\\nGPT2 Summarizer:\\nI have used LearnSmart and can officially say that this is an amazing\\nstudy tool that quickly and simply adapts to your style of learning.\\nYou can access it at anytime and it is on the go! Once you start using\\nLearnSmart you will quickly realize that this is the best way to learn\\nand study.  I am a business student and I did not use LearnSmart for\\nmy Accounting I class, however, I did use it for my Accounting II\\nclass. The grade difference from Accounting I to Accounting II was a\\nwhole letter grade... thanks to LearnSmart!  Every college student\\nshould definitely check it out! TL;DR: learn smart  When we first\\nstarted learning for our classes on August 20, 2015 it was my top\\nfavourite book I had ever read, but that was just prior to my first\\nclass started on August 14 and I was still in the middle of\\n\\n\\nReview 2:\\n\\nMaybe it's just me (I have no marketing background but desperately\\nwant to learn for my start-up) but I cannot get hardly anything out of\\nthis text. I have tried very hard to tread through the writing and\\nlearn something useful but chapter after chapter seems to be the exact\\nsame thing... overly wordy, rambling & unnecessarily academic writing\\nwith no comprehensible message behind it, no strategies I can apply to\\nmy own business and no organization that I can make sense of. Feels\\nalmost like I'm reading a paper a college student BSed their way\\nthrough with a whole bunch of long words and cryptic sentences in\\norder to sound impressive. What a rip-off. I paid $70 for this and it\\nhas been the most useless book I've paid for in my research process\\n(and I've read 16 other books thus far to help me with my venture).\\nThe only reason I'm giving this two stars and not one star is that out\\nof the first six chapters I've read, two of them actually made sense.\\nOne was on International Marketing and did a very good job explaining\\nthe technology limitations of other countries and the ways foreign\\ncitizens adapt to this and use technology. This is actually very\\nhelpful information and I'm going to use it. The second was on the\\nlegal and ethical aspects of using the internet. It gave an extremely\\nconcise explanation with lots of info and it was easily\\nunderstandable. Unfortunately, I've read a chapter like this over and\\nover and over again in pretty much every e-business book I've picked\\nup so far so it's getting old.\\nSummary 2:\\n\\nT5 Summarizer:\\nthe only reason I'm giving this two stars is that out of the first six\\nchapters I've read, two of them actually made sense . one was on\\ninternational marketing and did a very good job explaining the\\ntechnology limitations of other\\n\\nGPT2 Summarizer:\\nMaybe it's just me (I have no marketing background but desperately\\nwant to learn for my start-up) but I cannot get hardly anything out of\\nthis text. I have tried very hard to tread through the writing and\\nlearn something useful but chapter after chapter seems to be the exact\\nsame thing... overly wordy, rambling & unnecessarily academic writing\\nwith no comprehensible message behind it, no strategies I can apply to\\nmy own business and no organization that I can make sense of. Feels\\nalmost like I'm reading a paper a college student BSed their way\\nthrough with a whole bunch of long words and cryptic sentences in\\norder to sound impressive. What a rip-off. I paid $70 for this and it\\nhas been the most useless book I've paid for in my research process\\n(and I've read 16 other books thus far to help me with my venture).\\nThe only reason I'm giving this two stars and not one star is that out\\nof the first six chapters I've read, two of them actually made sense.\\nOne was on International Marketing and did a very good job explaining\\nthe technology limitations of other countries and the ways foreign\\ncitizens adapt to this and use technology. This is actually very\\nhelpful information and I'm going to use it. The second was on the\\nlegal and ethical aspects of using the internet. It gave an extremely\\nconcise explanation with lots of info and it was easily\\nunderstandable. Unfortunately, I've read a chapter like this over and\\nover and over again in pretty much every e-business book I've picked\\nup so far so it's getting old. TL;DR - don't give this a bad review (I\\nlove books written by foreigners in foreign countries, and it gives me\\nan excellent basis to work on my own business) and only try to write\\nstuff about it. And be fair and I'm not a\\n\""
      ]
     },
     "execution_count": 62,
     "metadata": {},
     "output_type": "execute_result"
    }
   ],
   "source": [
    "from transformers import pipeline, set_seed\n",
    "\n",
    "set_seed(42)\n",
    "\n",
    "t5_summarizer = pipeline(\"summarization\", model=\"t5-small\", tokenizer=\"t5-small\")\n",
    "gpt2_generator = pipeline(\"text-generation\", model=\"gpt2\", tokenizer=\"gpt2\", pad_token_id=50256, eos_token_id=50256)\n",
    "\n",
    "df_summarize = df_processed[df_processed['reviewText'].apply(lambda x: 100 < len(str(x).split()) < 400)].iloc[:10].reset_index()\n",
    "\n",
    "# summerize first 10 records\n",
    "for i, row in df_summarize.iterrows():\n",
    "    print(f\"Review {i+1}:\\n\")\n",
    "    for line in wrap(row['reviewText'], width=70):\n",
    "        print(line)\n",
    "\n",
    "    print(f\"Summary {i+1}:\\n\")\n",
    "\n",
    "    print(\"T5 Summarizer:\")\n",
    "    for line in wrap(t5_summarizer(row['reviewText'], max_length=50, truncation=True)[0]['summary_text'], width=70):\n",
    "        print(line)\n",
    "\n",
    "    print(\"\\nGPT2 Summarizer:\")\n",
    "    # by adding TL;DR, we can generate a summary of the review\n",
    "    for line in wrap(gpt2_generator(row['reviewText'] + \" TL;DR\", max_new_tokens=50)[0]['generated_text'], width=70):\n",
    "        print(line)\n",
    "\n",
    "    print(\"\\n\")\n",
    "\n",
    "\n",
    "\"\"\"\n",
    "Review 1:\n",
    "\n",
    "I have used LearnSmart and can officially say that this is an amazing\n",
    "study tool that quickly and simply adapts to your style of learning.\n",
    "You can access it at anytime and it is on the go! Once you start using\n",
    "LearnSmart you will quickly realize that this is the best way to learn\n",
    "and study.  I am a business student and I did not use LearnSmart for\n",
    "my Accounting I class, however, I did use it for my Accounting II\n",
    "class. The grade difference from Accounting I to Accounting II was a\n",
    "whole letter grade... thanks to LearnSmart!  Every college student\n",
    "should definitely check it out!\n",
    "Summary 1:\n",
    "\n",
    "T5 Summarizer:\n",
    "learnSmart is an amazing study tool that quickly and simply adapts to\n",
    "your style of learning . you can access it at anytime and it is on the\n",
    "go .\n",
    "\n",
    "GPT2 Summarizer:\n",
    "I have used LearnSmart and can officially say that this is an amazing\n",
    "study tool that quickly and simply adapts to your style of learning.\n",
    "You can access it at anytime and it is on the go! Once you start using\n",
    "LearnSmart you will quickly realize that this is the best way to learn\n",
    "and study.  I am a business student and I did not use LearnSmart for\n",
    "my Accounting I class, however, I did use it for my Accounting II\n",
    "class. The grade difference from Accounting I to Accounting II was a\n",
    "whole letter grade... thanks to LearnSmart!  Every college student\n",
    "should definitely check it out! TL;DR: learn smart  When we first\n",
    "started learning for our classes on August 20, 2015 it was my top\n",
    "favourite book I had ever read, but that was just prior to my first\n",
    "class started on August 14 and I was still in the middle of\n",
    "\n",
    "\n",
    "Review 2:\n",
    "\n",
    "Maybe it's just me (I have no marketing background but desperately\n",
    "want to learn for my start-up) but I cannot get hardly anything out of\n",
    "this text. I have tried very hard to tread through the writing and\n",
    "learn something useful but chapter after chapter seems to be the exact\n",
    "same thing... overly wordy, rambling & unnecessarily academic writing\n",
    "with no comprehensible message behind it, no strategies I can apply to\n",
    "my own business and no organization that I can make sense of. Feels\n",
    "almost like I'm reading a paper a college student BSed their way\n",
    "through with a whole bunch of long words and cryptic sentences in\n",
    "order to sound impressive. What a rip-off. I paid $70 for this and it\n",
    "has been the most useless book I've paid for in my research process\n",
    "(and I've read 16 other books thus far to help me with my venture).\n",
    "The only reason I'm giving this two stars and not one star is that out\n",
    "of the first six chapters I've read, two of them actually made sense.\n",
    "One was on International Marketing and did a very good job explaining\n",
    "the technology limitations of other countries and the ways foreign\n",
    "citizens adapt to this and use technology. This is actually very\n",
    "helpful information and I'm going to use it. The second was on the\n",
    "legal and ethical aspects of using the internet. It gave an extremely\n",
    "concise explanation with lots of info and it was easily\n",
    "understandable. Unfortunately, I've read a chapter like this over and\n",
    "over and over again in pretty much every e-business book I've picked\n",
    "up so far so it's getting old.\n",
    "Summary 2:\n",
    "\n",
    "T5 Summarizer:\n",
    "the only reason I'm giving this two stars is that out of the first six\n",
    "chapters I've read, two of them actually made sense . one was on\n",
    "international marketing and did a very good job explaining the\n",
    "technology limitations of other\n",
    "\n",
    "GPT2 Summarizer:\n",
    "Maybe it's just me (I have no marketing background but desperately\n",
    "want to learn for my start-up) but I cannot get hardly anything out of\n",
    "this text. I have tried very hard to tread through the writing and\n",
    "learn something useful but chapter after chapter seems to be the exact\n",
    "same thing... overly wordy, rambling & unnecessarily academic writing\n",
    "with no comprehensible message behind it, no strategies I can apply to\n",
    "my own business and no organization that I can make sense of. Feels\n",
    "almost like I'm reading a paper a college student BSed their way\n",
    "through with a whole bunch of long words and cryptic sentences in\n",
    "order to sound impressive. What a rip-off. I paid $70 for this and it\n",
    "has been the most useless book I've paid for in my research process\n",
    "(and I've read 16 other books thus far to help me with my venture).\n",
    "The only reason I'm giving this two stars and not one star is that out\n",
    "of the first six chapters I've read, two of them actually made sense.\n",
    "One was on International Marketing and did a very good job explaining\n",
    "the technology limitations of other countries and the ways foreign\n",
    "citizens adapt to this and use technology. This is actually very\n",
    "helpful information and I'm going to use it. The second was on the\n",
    "legal and ethical aspects of using the internet. It gave an extremely\n",
    "concise explanation with lots of info and it was easily\n",
    "understandable. Unfortunately, I've read a chapter like this over and\n",
    "over and over again in pretty much every e-business book I've picked\n",
    "up so far so it's getting old. TL;DR - don't give this a bad review (I\n",
    "love books written by foreigners in foreign countries, and it gives me\n",
    "an excellent basis to work on my own business) and only try to write\n",
    "stuff about it. And be fair and I'm not a\n",
    "\"\"\"\n"
   ]
  },
  {
   "cell_type": "markdown",
   "metadata": {
    "id": "nK1anlvHce6l"
   },
   "source": [
    "# 3.6 Text Generation (local)"
   ]
  },
  {
   "cell_type": "code",
   "execution_count": 63,
   "metadata": {
    "id": "JdJf5b56cxXO"
   },
   "outputs": [
    {
     "name": "stdout",
     "output_type": "stream",
     "text": [
      "Review 1:\n",
      "\n",
      "I've had some issues with the download of this product. I had to do it\n",
      "several times it recognized my product key, but the actual program\n",
      "would not save for ease of use to my desktop.  I haven't needed office\n",
      "in quite sometimes, and I am not one that will read through\n",
      "instructions, maybe the new way of office is web based?\n",
      "Response 1:\n",
      "\n",
      "\n",
      "GPT2 Response:\n",
      "I've had some issues with the download of this product. I had to do it\n",
      "several times it recognized my product key, but the actual program\n",
      "would not save for ease of use to my desktop.  I haven't needed office\n",
      "in quite sometimes, and I am not one that will read through\n",
      "instructions, maybe the new way of office is web based? I had problems\n",
      "with the software that worked but it was not easy to do when I just\n",
      "clicked on download link.  The file doesn't work. Does this mean this\n",
      "is 100% work and it isn't a bug? I'm not sure\n",
      "\n",
      "\n",
      "Review 2:\n",
      "\n",
      "After discovering how much MS wanted for a single slimy installation\n",
      "of Office 2016 (my preferred method of buying previously) I had\n",
      "already bought Office 365 and found this subscription. If you want to\n",
      "save some money and can wait (or use the 30 day trial from MS), why\n",
      "not buy from Amazon here?\n",
      "Response 2:\n",
      "\n",
      "\n",
      "GPT2 Response:\n",
      "After discovering how much MS wanted for a single slimy installation\n",
      "of Office 2016 (my preferred method of buying previously) I had\n",
      "already bought Office 365 and found this subscription. If you want to\n",
      "save some money and can wait (or use the 30 day trial from MS), why\n",
      "not buy from Amazon here? The pricing is a bit higher but most of the\n",
      "savings are worth it. Microsoft recently brought Office 2013 to its\n",
      "end. There were no major changes to the code base but the new Office\n",
      "2016 edition came with more features. A lot of folks are very\n",
      "\n",
      "\n",
      "Review 3:\n",
      "\n",
      "It's microsoft. What else is there to say?\n",
      "Response 3:\n",
      "\n",
      "\n",
      "GPT2 Response:\n",
      "It's microsoft. What else is there to say?  \"That was a huge boost to\n",
      "my game development. I'm so excited to finally be able to do that. It\n",
      "was so gratifying to finally get there. It was a great feeling working\n",
      "with this studio.\"  On how he\n",
      "\n",
      "\n",
      "Review 4:\n",
      "\n",
      "Love this.....just wish you could buy it once and be done for the\n",
      "lifetime of your computer!!  Good business for them bad for us!!  But\n",
      "what is knew right!!??\n",
      "Response 4:\n",
      "\n",
      "\n",
      "GPT2 Response:\n",
      "Love this.....just wish you could buy it once and be done for the\n",
      "lifetime of your computer!!  Good business for them bad for us!!  But\n",
      "what is knew right!!??  Yes one day we may have to come up with a\n",
      "better idea!\n",
      "\n",
      "\n",
      "Review 5:\n",
      "\n",
      "The instructions on the key card were written in Spanish, which had me\n",
      "a little concerned, but the key worked just fine.  What else can I\n",
      "say?\n",
      "Response 5:\n",
      "\n",
      "\n",
      "GPT2 Response:\n",
      "The instructions on the key card were written in Spanish, which had me\n",
      "a little concerned, but the key worked just fine.  What else can I\n",
      "say? It's such a great little game I'd like to go to school with it!\n",
      "Let's not get into spoilers, but first, a few words to get this\n",
      "through the piqued-up-but-still-satisfy-the\n",
      "\n",
      "\n",
      "Review 6:\n",
      "\n",
      "I am currently overseas and it does not work. It recognizes my\n",
      "overseas IP address and it states \"this produce is not intended for\n",
      "your identified region\". I do not return to the US until later this\n",
      "year, so what do I do?\n",
      "Response 6:\n",
      "\n",
      "\n",
      "GPT2 Response:\n",
      "I am currently overseas and it does not work. It recognizes my\n",
      "overseas IP address and it states \"this produce is not intended for\n",
      "your identified region\". I do not return to the US until later this\n",
      "year, so what do I do?  When you contact a company who can help you\n",
      "find your supplier, do not hesitate to visit your nearest US office or\n",
      "contact your nearest manufacturer. If needed, you can find a local\n",
      "company who can make an appointment.  You have a\n",
      "\n",
      "\n",
      "Review 7:\n",
      "\n",
      "No fuss way to get 5PC's outfitted with office. Who wouldn't do this??\n",
      "Response 7:\n",
      "\n",
      "\n",
      "GPT2 Response:\n",
      "No fuss way to get 5PC's outfitted with office. Who wouldn't do this??\n",
      "My wife, who used to work in the IT department, brought up a new\n",
      "product that she would like on our house-rooted couch. The service, in\n",
      "my opinion, was awful. We got an email in which a few of\n",
      "\n",
      "\n",
      "Review 8:\n",
      "\n",
      "Not very impressed!  I have used outlook for years with the latest\n",
      "being Office 2013.  No matter what I do outlook online will only pull\n",
      "up with the \"hotmail\" format.  No ribbon on the top to do the\n",
      "functions I use.  Oh, and talk about ads on the side?????\n",
      "Response 8:\n",
      "\n",
      "\n",
      "GPT2 Response:\n",
      "Not very impressed!  I have used outlook for years with the latest\n",
      "being Office 2013.  No matter what I do outlook online will only pull\n",
      "up with the \"hotmail\" format.  No ribbon on the top to do the\n",
      "functions I use.  Oh, and talk about ads on the side????? I need no\n",
      "such products in this job.  There will always be some kind of ads I\n",
      "need in this job.\n",
      "\n",
      "\n",
      "Review 9:\n",
      "\n",
      "I entered the key on the last day of my subscription and renewed\n",
      "without any trouble.  Not sure what happens if you enter a key early\n",
      "---does your subscription renew from the date you enter the key or\n",
      "from the date your subscription expires?\n",
      "Response 9:\n",
      "\n",
      "\n",
      "GPT2 Response:\n",
      "I entered the key on the last day of my subscription and renewed\n",
      "without any trouble.  Not sure what happens if you enter a key early\n",
      "---does your subscription renew from the date you enter the key or\n",
      "from the date your subscription expires? That might seem like a good\n",
      "reason to put a subscription in a temporary key.  There's nothing in\n",
      "the code stating that you have to continue reading or restart your\n",
      "account or send more than 500 emails; and I don't have access to it,\n",
      "\n",
      "\n",
      "Review 10:\n",
      "\n",
      "Does this version works with Mac XO 10.9?\n",
      "Response 10:\n",
      "\n",
      "\n",
      "GPT2 Response:\n",
      "Does this version works with Mac XO 10.9?  (To be fair, I'm not sure\n",
      "I'm going to be adding anything new to that list, but this version\n",
      "seems a lot more stable and the changes are generally bug free. My\n",
      "guess is it doesn't. So a non-\n",
      "\n",
      "\n"
     ]
    },
    {
     "data": {
      "text/plain": [
       "\"\\nReview 1:\\n\\nI've had some issues with the download of this product. I had to do it\\nseveral times it recognized my product key, but the actual program\\nwould not save for ease of use to my desktop.  I haven't needed office\\nin quite sometimes, and I am not one that will read through\\ninstructions, maybe the new way of office is web based?\\nResponse 1:\\n\\n\\nGPT2 Response:\\nI've had some issues with the download of this product. I had to do it\\nseveral times it recognized my product key, but the actual program\\nwould not save for ease of use to my desktop.  I haven't needed office\\nin quite sometimes, and I am not one that will read through\\ninstructions, maybe the new way of office is web based? My first\\nthought though though was to see how this solution can be done in\\naction. All I can say is that it is a solid option considering I'm a\\ncomputer nerd like myself for the past 5 years.   As if this wasn't\\nenough\\n\\n\\n\""
      ]
     },
     "execution_count": 63,
     "metadata": {},
     "output_type": "execute_result"
    }
   ],
   "source": [
    "from transformers import pipeline\n",
    "\n",
    "# Generate response\n",
    "df_generate = df_processed[(df_processed['reviewText'].apply(lambda x:len(str(x).split()) < 100)) & (df_processed['reviewText'].str[-1]==\"?\")].iloc[:10].reset_index()\n",
    "\n",
    "# summerize first 10 records\n",
    "for i, row in df_generate.iterrows():\n",
    "    print(f\"Review {i+1}:\\n\")\n",
    "    for line in wrap(row['reviewText'], width=70):\n",
    "        print(line)\n",
    "\n",
    "    print(f\"Response {i+1}:\\n\")\n",
    "\n",
    "    print(\"\\nGPT2 Response:\")\n",
    "    # by adding TL;DR, we can generate a summary of the review\n",
    "    for line in wrap(gpt2_generator(row['reviewText'], max_new_tokens=50)[0]['generated_text'], width=70):\n",
    "        print(line)\n",
    "\n",
    "    print(\"\\n\")\n",
    "\n",
    "\"\"\"\n",
    "Review 1:\n",
    "\n",
    "I've had some issues with the download of this product. I had to do it\n",
    "several times it recognized my product key, but the actual program\n",
    "would not save for ease of use to my desktop.  I haven't needed office\n",
    "in quite sometimes, and I am not one that will read through\n",
    "instructions, maybe the new way of office is web based?\n",
    "Response 1:\n",
    "\n",
    "\n",
    "GPT2 Response:\n",
    "I've had some issues with the download of this product. I had to do it\n",
    "several times it recognized my product key, but the actual program\n",
    "would not save for ease of use to my desktop.  I haven't needed office\n",
    "in quite sometimes, and I am not one that will read through\n",
    "instructions, maybe the new way of office is web based? My first\n",
    "thought though though was to see how this solution can be done in\n",
    "action. All I can say is that it is a solid option considering I'm a\n",
    "computer nerd like myself for the past 5 years.   As if this wasn't\n",
    "enough\n",
    "\n",
    "\n",
    "\"\"\"\n"
   ]
  },
  {
   "cell_type": "code",
   "execution_count": 64,
   "metadata": {
    "id": "8B4XK3NuhR9B"
   },
   "outputs": [
    {
     "name": "stdout",
     "output_type": "stream",
     "text": [
      "How to install windows?  Install Windows on a regular system. Windows\n",
      "is a Windows XP or Windows Vista operating system.  Step 1: Change\n",
      "permissions of Windows from \"Administrator\" to \"root\"  Set Windows\n",
      "permissions on \"root\" by changing the\n"
     ]
    },
    {
     "data": {
      "text/plain": [
       "'\\nHow to install windows? Find out how in the next step »  When\\nupgrading you need to follow these steps: • install an installer from\\nsource (e.g. from a download on the PC),  • make sure you include\\nversion check for newer versions (\\n'"
      ]
     },
     "execution_count": 64,
     "metadata": {},
     "output_type": "execute_result"
    }
   ],
   "source": [
    "# testing on customized text\n",
    "sample_text = \"How to install windows?\"\n",
    "for line in wrap(gpt2_generator(sample_text, max_new_tokens=50)[0]['generated_text'], width=70):\n",
    "    print(line)\n",
    "\n",
    "\"\"\"\n",
    "How to install windows? Find out how in the next step »  When\n",
    "upgrading you need to follow these steps: • install an installer from\n",
    "source (e.g. from a download on the PC),  • make sure you include\n",
    "version check for newer versions (\n",
    "\"\"\""
   ]
  }
 ],
 "metadata": {
  "accelerator": "GPU",
  "colab": {
   "collapsed_sections": [
    "jgWETX4d8v2A",
    "ogGh_JAF9CLT"
   ],
   "gpuType": "T4",
   "provenance": []
  },
  "kernelspec": {
   "display_name": "Python 3 (ipykernel)",
   "language": "python",
   "name": "python3"
  },
  "language_info": {
   "codemirror_mode": {
    "name": "ipython",
    "version": 3
   },
   "file_extension": ".py",
   "mimetype": "text/x-python",
   "name": "python",
   "nbconvert_exporter": "python",
   "pygments_lexer": "ipython3",
   "version": "3.9.18"
  }
 },
 "nbformat": 4,
 "nbformat_minor": 4
}
